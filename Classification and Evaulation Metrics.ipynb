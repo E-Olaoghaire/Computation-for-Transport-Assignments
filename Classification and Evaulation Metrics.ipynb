{
  "cells": [
    {
      "cell_type": "markdown",
      "id": "2b1cd193",
      "metadata": {
        "id": "2b1cd193"
      },
      "source": [
        "# Assignment 2\n",
        "The objective of this assignment is to solve a classification task using different classifiers and to compare them according to different evaluation metrics. You are asked to use classifiers from the scikit-learn library, and also the “custom” NN class studied during the course.\n",
        "\n",
        "\n",
        "# Scikit-learn\n",
        "Scikit-learn is an open source machine learning library that supports supervised and unsupervised learning. It also provides various tools for model fitting, data preprocessing, model selection, model evaluation, and many other utilities. For this assignement, you are going to use classification algorithms provided by scikit-learn, including SVM, LogisticRegression, RandomForest, k-Nearest Neighbors (kNN) and DummyClassifier.\n",
        "\n",
        "DummyClassifier makes predictions that ignore the input features. This classifier serves as a simple baseline to compare against other more complex classifiers.\n",
        "\n",
        "The documentation for the scikit-learn library is available at https://scikit-learn.org/stable/index.html\n"
      ]
    },
    {
      "cell_type": "code",
      "execution_count": null,
      "id": "453e590e",
      "metadata": {
        "id": "453e590e"
      },
      "outputs": [],
      "source": [
        "#Import classifiers from scikit-learn and numpy library\n",
        "from sklearn.neighbors import KNeighborsClassifier\n",
        "from sklearn.svm import SVC\n",
        "from sklearn.dummy import DummyClassifier\n",
        "from sklearn.linear_model import LogisticRegression\n",
        "from sklearn.ensemble import RandomForestClassifier\n",
        "from sklearn.model_selection import train_test_split\n",
        "from sklearn import preprocessing\n",
        "from sklearn.metrics import classification_report, roc_curve, auc, RocCurveDisplay\n",
        "from sklearn.metrics import confusion_matrix, ConfusionMatrixDisplay, PrecisionRecallDisplay, precision_recall_curve\n",
        "from sklearn.metrics import accuracy_score, f1_score, precision_score, recall_score, roc_auc_score\n",
        "\n",
        "import pandas as pd\n",
        "import numpy as np\n",
        "\n",
        "import plotly.express as px\n",
        "import plotly.graph_objects as go\n",
        "\n",
        "from plotly.subplots import make_subplots\n",
        "\n",
        "import matplotlib.pyplot as plt\n",
        "\n",
        "from NeuralNetwork import NeuralNetwork as NN\n"
      ]
    },
    {
      "cell_type": "markdown",
      "id": "5fe13984",
      "metadata": {
        "id": "5fe13984"
      },
      "source": [
        "# Part 1: digits dataset\n",
        "\n",
        "The dataset provided in the 'hand_digits.txt' file contains features extracted from handwritten digits (0 - 9) for 442 samples. The features correspond to coordinates of 8 equally-spaced points, after normalization and resampling, taken from each sample. The corresponding label is also provided\n"
      ]
    },
    {
      "cell_type": "markdown",
      "id": "db663e81",
      "metadata": {
        "id": "db663e81"
      },
      "source": [
        "![title](digits_sample.png)"
      ]
    },
    {
      "cell_type": "code",
      "execution_count": null,
      "id": "bca828a5",
      "metadata": {
        "id": "bca828a5"
      },
      "outputs": [],
      "source": [
        "#Load the data by separating them in data (features) and labels (corresponding true digit)\n",
        "#Note: features are already normalized\n",
        "file_path = 'hand_digits.txt'\n",
        "features = 16\n",
        "data = np.loadtxt(file_path, usecols=range(0, features))\n",
        "labels = np.loadtxt(file_path, usecols=[features])\n"
      ]
    },
    {
      "cell_type": "code",
      "execution_count": null,
      "id": "f662f502",
      "metadata": {
        "id": "f662f502"
      },
      "outputs": [],
      "source": [
        "# Create a dictionary of models\n",
        "PredictionModels = {\n",
        "    'Dummy Classifier': DummyClassifier(strategy='most_frequent'),\n",
        "    'kNN': KNeighborsClassifier(n_neighbors=5),\n",
        "    'SVM': SVC(kernel=\"linear\", C=1),\n",
        "    'Random Forest': RandomForestClassifier(),\n",
        "    'Logistic Regression': LogisticRegression(max_iter = 2000)\n",
        "}\n",
        "\n",
        "# Scaling for use with logistic regression as I was getting an lbfgs convergence warning\n",
        "scaler = preprocessing.StandardScaler().fit(train_x)\n",
        "train_x_scaled = scaler.transform(train_x)\n",
        "validation_x_scaled = scaler.transform(validation_x)\n",
        "\n",
        "\n",
        "# Loop for training of models\n",
        "for name, model in PredictionModels.items():\n",
        "\n",
        "  if name != \"Logistic Regression\":\n",
        "\n",
        "    print('training for classifer: {}'.format(name))\n",
        "    model.fit(train_x, train_y)\n",
        "\n",
        "  if name =='Logistic Regression':\n",
        "\n",
        "    print('training for classifer: {}'.format(name))\n",
        "    model.fit(train_x_scaled, train_y)\n",
        "\n",
        "print(\"done\")"
      ]
    },
    {
      "cell_type": "code",
      "execution_count": null,
      "id": "611b8eff",
      "metadata": {
        "id": "611b8eff"
      },
      "outputs": [],
      "source": [
        "# Showing Predictions vs Ground Truth\n",
        "\n",
        "for name, model in PredictionModels.items():\n",
        "\n",
        "  print('Model: ', name)\n",
        "  print('Predictions:', model.predict(validation_x[0:5]))\n",
        "  print('Ground truth:', validation_y[0:5])"
      ]
    },
    {
      "cell_type": "code",
      "execution_count": null,
      "id": "d9836c9e",
      "metadata": {
        "id": "d9836c9e"
      },
      "outputs": [],
      "source": [
        "# Get and print confusion matrices for each classifier\n",
        "\n",
        "for name, model in PredictionModels.items():\n",
        "\n",
        "  if name != 'Logistic Regression':\n",
        "\n",
        "    y_pred = model.predict(validation_x)\n",
        "    cm = confusion_matrix(validation_y, y_pred)\n",
        "    disp = ConfusionMatrixDisplay(confusion_matrix=cm)\n",
        "    disp.plot()\n",
        "    disp.ax_.set_title(name)\n",
        "\n",
        "  if name == 'Logistic Regression':\n",
        "\n",
        "    y_pred = model.predict(validation_x_scaled)\n",
        "    cm = confusion_matrix(validation_y, y_pred)\n",
        "    disp = ConfusionMatrixDisplay(confusion_matrix=cm)\n",
        "    disp.plot()\n",
        "    disp.ax_.set_title(name)"
      ]
    },
    {
      "cell_type": "code",
      "source": [
        "# Create Lists to store model metrics\n",
        "\n",
        "accuracy_list = []\n",
        "train_accuracy_list = []\n",
        "\n",
        "precision_list = []\n",
        "train_precision_list = []\n",
        "\n",
        "f1_list = []\n",
        "train_f1_list = []\n",
        "\n",
        "recall_list = []\n",
        "train_recall_list = []\n",
        "\n",
        "names = []\n",
        "\n",
        "# For loop to calculate accuracy, f1, recall and precision for each model\n",
        "# Loop appends the lists created above\n",
        "for name, model in PredictionModels.items():\n",
        "\n",
        "  if name != 'Logistic Regression':\n",
        "\n",
        "    y_pred = model.predict(validation_x)\n",
        "    y_pred_train = model.predict(train_x)\n",
        "\n",
        "    accuracy = accuracy_score(validation_y, y_pred)\n",
        "    accuracy_list.append(accuracy)\n",
        "\n",
        "    accuracy = accuracy_score(train_y, y_pred_train)\n",
        "    train_accuracy_list.append(accuracy)\n",
        "\n",
        "    f1 = f1_score(validation_y, y_pred, average = 'macro')\n",
        "    f1_list.append(f1)\n",
        "\n",
        "    f1_train = f1_score(train_y, y_pred_train, average = 'macro')\n",
        "    train_f1_list.append(f1_train)\n",
        "\n",
        "    precision = precision_score(validation_y, y_pred, average = 'macro')\n",
        "    precision_list.append(precision)\n",
        "\n",
        "    precision = precision_score(train_y, y_pred_train, average = 'macro')\n",
        "    train_precision_list.append(precision)\n",
        "\n",
        "    recall = recall_score(validation_y, y_pred, average = 'macro')\n",
        "    recall_list.append(recall)\n",
        "\n",
        "    recall = recall_score(train_y, y_pred_train, average = 'macro')\n",
        "    train_recall_list.append(recall)\n",
        "\n",
        "    names.append(name)\n",
        "\n",
        "  if name == 'Logistic Regression':\n",
        "\n",
        "    y_pred = model.predict(validation_x_scaled)\n",
        "    y_pred_train = model.predict(train_x_scaled)\n",
        "\n",
        "    accuracy = accuracy_score(validation_y, y_pred)\n",
        "    accuracy_list.append(accuracy)\n",
        "\n",
        "    accuracy = accuracy_score(train_y, y_pred_train)\n",
        "    train_accuracy_list.append(accuracy)\n",
        "\n",
        "    f1 = f1_score(validation_y, y_pred, average = 'macro')\n",
        "    f1_list.append(f1)\n",
        "\n",
        "    f1_train = f1_score(train_y, y_pred_train, average = 'macro')\n",
        "    train_f1_list.append(f1_train)\n",
        "\n",
        "    precision = precision_score(validation_y, y_pred, average = 'macro')\n",
        "    precision_list.append(precision)\n",
        "\n",
        "    precision = precision_score(train_y, y_pred_train, average = 'macro')\n",
        "    train_precision_list.append(precision)\n",
        "\n",
        "    recall = recall_score(validation_y, y_pred, average = 'macro')\n",
        "    recall_list.append(recall)\n",
        "\n",
        "    recall = recall_score(train_y, y_pred_train, average = 'macro')\n",
        "    train_recall_list.append(recall)\n",
        "\n",
        "    names.append(name)\n",
        "\n",
        "\n"
      ],
      "metadata": {
        "id": "FhfrfWxXizoM"
      },
      "id": "FhfrfWxXizoM",
      "execution_count": null,
      "outputs": []
    },
    {
      "cell_type": "code",
      "source": [
        "# Create Plot of training and validation metrics with drop down menu to select desired metrics\n",
        "fig = go.Figure()\n",
        "\n",
        "# Add traces to display the two different sets of data\n",
        "fig.add_traces(go.Bar(x=names, y=accuracy_list, name=f\"Validation\", marker_color='rgb(55, 83, 109)', text=accuracy_list, textposition='auto'))\n",
        "fig.add_traces(go.Bar(x=names, y=train_accuracy_list,name=f\"Training\", marker_color='rgb(26, 180, 255)', text=train_accuracy_list, textposition='auto'))\n",
        "fig.update_traces(texttemplate='%{y:.3f}')  # Drop Decimals for display\n",
        "fig.update_layout(yaxis_title = 'Accuracy') # Set y axis title, otherwise the y axis will have no title before using update buttons\n",
        "\n",
        "# Create drop down menu to update the plot\n",
        "updatemenus = [{'buttons': [\n",
        "      \t                    {'method': 'update',\n",
        "                             'label': 'Accuracy',\n",
        "                             'args': [{'y': [accuracy_list, train_accuracy_list]},{\"yaxis.title.text\":\"Accuracy\"}]\n",
        "                              },\n",
        "                            {'method': 'update',\n",
        "                             'label': 'Precision',\n",
        "                             'args': [{'y': [precision_list, train_precision_list]},{\"yaxis.title.text\":\"Precision\"}]},\n",
        "                           {'method': 'update',\n",
        "                             'label': 'Recall',\n",
        "                             'args': [{'y': [recall_list, train_recall_list]},{\"yaxis.title.text\":\"Recall\"}]},\n",
        "                           {'method': 'update',\n",
        "                             'label': 'f1',\n",
        "                             'args': [{'y': [f1_list, train_f1_list]},{\"yaxis.title.text\":\"f1 Score\"}]}\n",
        "                            ],\n",
        "                'direction': 'down',\n",
        "                'bgcolor': 'lightblue',\n",
        "                'showactive': True,}]\n",
        "\n",
        "# update layout with buttons, position legend, and show the figure\n",
        "fig.update_layout(updatemenus=updatemenus)\n",
        "fig.update_layout(legend=dict(\n",
        "                                  yanchor=\"top\",\n",
        "                                  y=0.99,\n",
        "                                  xanchor=\"left\",\n",
        "                                  x=0.01\n",
        "                              ))\n",
        "fig.update_layout(title_text = 'Macro Averaged Metric Scores For Selected Classifiers', xaxis_title = 'Classifiers', title_x = 0.5)\n",
        "fig.update_yaxes(range=[0, 1.0])\n",
        "\n",
        "# Below is adapted from https://stackoverflow.com/questions/60913366/how-to-annotate-a-point-outside-the-plot-itself\n",
        "fig.update_layout(margin=dict(t=150))\n",
        "fig.add_annotation(dict(font=dict(color=\"black\",size=12),\n",
        "                            x=1.82,\n",
        "                            y=1.2,\n",
        "                            showarrow=False,\n",
        "                            text='Note: Larger values of these metrics for the training set indicate overfitting',\n",
        "                            textangle=0,\n",
        "                            xref=\"x\",\n",
        "                            yref=\"paper\"\n",
        "                           ))\n",
        "fig.show()"
      ],
      "metadata": {
        "id": "QMsdO3QgvaS9",
        "colab": {
          "base_uri": "https://localhost:8080/",
          "height": 542
        },
        "outputId": "c247eca6-21ba-419f-ca2c-ae355311faaa"
      },
      "id": "QMsdO3QgvaS9",
      "execution_count": null,
      "outputs": [
        {
          "output_type": "display_data",
          "data": {
            "text/html": [
              "<html>\n",
              "<head><meta charset=\"utf-8\" /></head>\n",
              "<body>\n",
              "    <div>            <script src=\"https://cdnjs.cloudflare.com/ajax/libs/mathjax/2.7.5/MathJax.js?config=TeX-AMS-MML_SVG\"></script><script type=\"text/javascript\">if (window.MathJax && window.MathJax.Hub && window.MathJax.Hub.Config) {window.MathJax.Hub.Config({SVG: {font: \"STIX-Web\"}});}</script>                <script type=\"text/javascript\">window.PlotlyConfig = {MathJaxConfig: 'local'};</script>\n",
              "        <script charset=\"utf-8\" src=\"https://cdn.plot.ly/plotly-2.24.1.min.js\"></script>                <div id=\"1162fa67-a18a-4cfe-9362-4418fcbcf1e5\" class=\"plotly-graph-div\" style=\"height:525px; width:100%;\"></div>            <script type=\"text/javascript\">                                    window.PLOTLYENV=window.PLOTLYENV || {};                                    if (document.getElementById(\"1162fa67-a18a-4cfe-9362-4418fcbcf1e5\")) {                    Plotly.newPlot(                        \"1162fa67-a18a-4cfe-9362-4418fcbcf1e5\",                        [{\"marker\":{\"color\":\"rgb(55, 83, 109)\"},\"name\":\"Validation\",\"text\":[\"0.0990990990990991\",\"0.7567567567567568\",\"0.6576576576576577\",\"0.7657657657657657\",\"0.6486486486486487\"],\"textposition\":\"auto\",\"x\":[\"Dummy Classifier\",\"kNN\",\"SVM\",\"Random Forest\",\"Logistic Regression\"],\"y\":[0.0990990990990991,0.7567567567567568,0.6576576576576577,0.7657657657657657,0.6486486486486487],\"type\":\"bar\",\"texttemplate\":\"%{y:.3f}\"},{\"marker\":{\"color\":\"rgb(26, 180, 255)\"},\"name\":\"Training\",\"text\":[\"0.1419939577039275\",\"0.8882175226586103\",\"1.0\",\"1.0\",\"0.8821752265861027\"],\"textposition\":\"auto\",\"x\":[\"Dummy Classifier\",\"kNN\",\"SVM\",\"Random Forest\",\"Logistic Regression\"],\"y\":[0.1419939577039275,0.8882175226586103,1.0,1.0,0.8821752265861027],\"type\":\"bar\",\"texttemplate\":\"%{y:.3f}\"}],                        {\"template\":{\"data\":{\"histogram2dcontour\":[{\"type\":\"histogram2dcontour\",\"colorbar\":{\"outlinewidth\":0,\"ticks\":\"\"},\"colorscale\":[[0.0,\"#0d0887\"],[0.1111111111111111,\"#46039f\"],[0.2222222222222222,\"#7201a8\"],[0.3333333333333333,\"#9c179e\"],[0.4444444444444444,\"#bd3786\"],[0.5555555555555556,\"#d8576b\"],[0.6666666666666666,\"#ed7953\"],[0.7777777777777778,\"#fb9f3a\"],[0.8888888888888888,\"#fdca26\"],[1.0,\"#f0f921\"]]}],\"choropleth\":[{\"type\":\"choropleth\",\"colorbar\":{\"outlinewidth\":0,\"ticks\":\"\"}}],\"histogram2d\":[{\"type\":\"histogram2d\",\"colorbar\":{\"outlinewidth\":0,\"ticks\":\"\"},\"colorscale\":[[0.0,\"#0d0887\"],[0.1111111111111111,\"#46039f\"],[0.2222222222222222,\"#7201a8\"],[0.3333333333333333,\"#9c179e\"],[0.4444444444444444,\"#bd3786\"],[0.5555555555555556,\"#d8576b\"],[0.6666666666666666,\"#ed7953\"],[0.7777777777777778,\"#fb9f3a\"],[0.8888888888888888,\"#fdca26\"],[1.0,\"#f0f921\"]]}],\"heatmap\":[{\"type\":\"heatmap\",\"colorbar\":{\"outlinewidth\":0,\"ticks\":\"\"},\"colorscale\":[[0.0,\"#0d0887\"],[0.1111111111111111,\"#46039f\"],[0.2222222222222222,\"#7201a8\"],[0.3333333333333333,\"#9c179e\"],[0.4444444444444444,\"#bd3786\"],[0.5555555555555556,\"#d8576b\"],[0.6666666666666666,\"#ed7953\"],[0.7777777777777778,\"#fb9f3a\"],[0.8888888888888888,\"#fdca26\"],[1.0,\"#f0f921\"]]}],\"heatmapgl\":[{\"type\":\"heatmapgl\",\"colorbar\":{\"outlinewidth\":0,\"ticks\":\"\"},\"colorscale\":[[0.0,\"#0d0887\"],[0.1111111111111111,\"#46039f\"],[0.2222222222222222,\"#7201a8\"],[0.3333333333333333,\"#9c179e\"],[0.4444444444444444,\"#bd3786\"],[0.5555555555555556,\"#d8576b\"],[0.6666666666666666,\"#ed7953\"],[0.7777777777777778,\"#fb9f3a\"],[0.8888888888888888,\"#fdca26\"],[1.0,\"#f0f921\"]]}],\"contourcarpet\":[{\"type\":\"contourcarpet\",\"colorbar\":{\"outlinewidth\":0,\"ticks\":\"\"}}],\"contour\":[{\"type\":\"contour\",\"colorbar\":{\"outlinewidth\":0,\"ticks\":\"\"},\"colorscale\":[[0.0,\"#0d0887\"],[0.1111111111111111,\"#46039f\"],[0.2222222222222222,\"#7201a8\"],[0.3333333333333333,\"#9c179e\"],[0.4444444444444444,\"#bd3786\"],[0.5555555555555556,\"#d8576b\"],[0.6666666666666666,\"#ed7953\"],[0.7777777777777778,\"#fb9f3a\"],[0.8888888888888888,\"#fdca26\"],[1.0,\"#f0f921\"]]}],\"surface\":[{\"type\":\"surface\",\"colorbar\":{\"outlinewidth\":0,\"ticks\":\"\"},\"colorscale\":[[0.0,\"#0d0887\"],[0.1111111111111111,\"#46039f\"],[0.2222222222222222,\"#7201a8\"],[0.3333333333333333,\"#9c179e\"],[0.4444444444444444,\"#bd3786\"],[0.5555555555555556,\"#d8576b\"],[0.6666666666666666,\"#ed7953\"],[0.7777777777777778,\"#fb9f3a\"],[0.8888888888888888,\"#fdca26\"],[1.0,\"#f0f921\"]]}],\"mesh3d\":[{\"type\":\"mesh3d\",\"colorbar\":{\"outlinewidth\":0,\"ticks\":\"\"}}],\"scatter\":[{\"fillpattern\":{\"fillmode\":\"overlay\",\"size\":10,\"solidity\":0.2},\"type\":\"scatter\"}],\"parcoords\":[{\"type\":\"parcoords\",\"line\":{\"colorbar\":{\"outlinewidth\":0,\"ticks\":\"\"}}}],\"scatterpolargl\":[{\"type\":\"scatterpolargl\",\"marker\":{\"colorbar\":{\"outlinewidth\":0,\"ticks\":\"\"}}}],\"bar\":[{\"error_x\":{\"color\":\"#2a3f5f\"},\"error_y\":{\"color\":\"#2a3f5f\"},\"marker\":{\"line\":{\"color\":\"#E5ECF6\",\"width\":0.5},\"pattern\":{\"fillmode\":\"overlay\",\"size\":10,\"solidity\":0.2}},\"type\":\"bar\"}],\"scattergeo\":[{\"type\":\"scattergeo\",\"marker\":{\"colorbar\":{\"outlinewidth\":0,\"ticks\":\"\"}}}],\"scatterpolar\":[{\"type\":\"scatterpolar\",\"marker\":{\"colorbar\":{\"outlinewidth\":0,\"ticks\":\"\"}}}],\"histogram\":[{\"marker\":{\"pattern\":{\"fillmode\":\"overlay\",\"size\":10,\"solidity\":0.2}},\"type\":\"histogram\"}],\"scattergl\":[{\"type\":\"scattergl\",\"marker\":{\"colorbar\":{\"outlinewidth\":0,\"ticks\":\"\"}}}],\"scatter3d\":[{\"type\":\"scatter3d\",\"line\":{\"colorbar\":{\"outlinewidth\":0,\"ticks\":\"\"}},\"marker\":{\"colorbar\":{\"outlinewidth\":0,\"ticks\":\"\"}}}],\"scattermapbox\":[{\"type\":\"scattermapbox\",\"marker\":{\"colorbar\":{\"outlinewidth\":0,\"ticks\":\"\"}}}],\"scatterternary\":[{\"type\":\"scatterternary\",\"marker\":{\"colorbar\":{\"outlinewidth\":0,\"ticks\":\"\"}}}],\"scattercarpet\":[{\"type\":\"scattercarpet\",\"marker\":{\"colorbar\":{\"outlinewidth\":0,\"ticks\":\"\"}}}],\"carpet\":[{\"aaxis\":{\"endlinecolor\":\"#2a3f5f\",\"gridcolor\":\"white\",\"linecolor\":\"white\",\"minorgridcolor\":\"white\",\"startlinecolor\":\"#2a3f5f\"},\"baxis\":{\"endlinecolor\":\"#2a3f5f\",\"gridcolor\":\"white\",\"linecolor\":\"white\",\"minorgridcolor\":\"white\",\"startlinecolor\":\"#2a3f5f\"},\"type\":\"carpet\"}],\"table\":[{\"cells\":{\"fill\":{\"color\":\"#EBF0F8\"},\"line\":{\"color\":\"white\"}},\"header\":{\"fill\":{\"color\":\"#C8D4E3\"},\"line\":{\"color\":\"white\"}},\"type\":\"table\"}],\"barpolar\":[{\"marker\":{\"line\":{\"color\":\"#E5ECF6\",\"width\":0.5},\"pattern\":{\"fillmode\":\"overlay\",\"size\":10,\"solidity\":0.2}},\"type\":\"barpolar\"}],\"pie\":[{\"automargin\":true,\"type\":\"pie\"}]},\"layout\":{\"autotypenumbers\":\"strict\",\"colorway\":[\"#636efa\",\"#EF553B\",\"#00cc96\",\"#ab63fa\",\"#FFA15A\",\"#19d3f3\",\"#FF6692\",\"#B6E880\",\"#FF97FF\",\"#FECB52\"],\"font\":{\"color\":\"#2a3f5f\"},\"hovermode\":\"closest\",\"hoverlabel\":{\"align\":\"left\"},\"paper_bgcolor\":\"white\",\"plot_bgcolor\":\"#E5ECF6\",\"polar\":{\"bgcolor\":\"#E5ECF6\",\"angularaxis\":{\"gridcolor\":\"white\",\"linecolor\":\"white\",\"ticks\":\"\"},\"radialaxis\":{\"gridcolor\":\"white\",\"linecolor\":\"white\",\"ticks\":\"\"}},\"ternary\":{\"bgcolor\":\"#E5ECF6\",\"aaxis\":{\"gridcolor\":\"white\",\"linecolor\":\"white\",\"ticks\":\"\"},\"baxis\":{\"gridcolor\":\"white\",\"linecolor\":\"white\",\"ticks\":\"\"},\"caxis\":{\"gridcolor\":\"white\",\"linecolor\":\"white\",\"ticks\":\"\"}},\"coloraxis\":{\"colorbar\":{\"outlinewidth\":0,\"ticks\":\"\"}},\"colorscale\":{\"sequential\":[[0.0,\"#0d0887\"],[0.1111111111111111,\"#46039f\"],[0.2222222222222222,\"#7201a8\"],[0.3333333333333333,\"#9c179e\"],[0.4444444444444444,\"#bd3786\"],[0.5555555555555556,\"#d8576b\"],[0.6666666666666666,\"#ed7953\"],[0.7777777777777778,\"#fb9f3a\"],[0.8888888888888888,\"#fdca26\"],[1.0,\"#f0f921\"]],\"sequentialminus\":[[0.0,\"#0d0887\"],[0.1111111111111111,\"#46039f\"],[0.2222222222222222,\"#7201a8\"],[0.3333333333333333,\"#9c179e\"],[0.4444444444444444,\"#bd3786\"],[0.5555555555555556,\"#d8576b\"],[0.6666666666666666,\"#ed7953\"],[0.7777777777777778,\"#fb9f3a\"],[0.8888888888888888,\"#fdca26\"],[1.0,\"#f0f921\"]],\"diverging\":[[0,\"#8e0152\"],[0.1,\"#c51b7d\"],[0.2,\"#de77ae\"],[0.3,\"#f1b6da\"],[0.4,\"#fde0ef\"],[0.5,\"#f7f7f7\"],[0.6,\"#e6f5d0\"],[0.7,\"#b8e186\"],[0.8,\"#7fbc41\"],[0.9,\"#4d9221\"],[1,\"#276419\"]]},\"xaxis\":{\"gridcolor\":\"white\",\"linecolor\":\"white\",\"ticks\":\"\",\"title\":{\"standoff\":15},\"zerolinecolor\":\"white\",\"automargin\":true,\"zerolinewidth\":2},\"yaxis\":{\"gridcolor\":\"white\",\"linecolor\":\"white\",\"ticks\":\"\",\"title\":{\"standoff\":15},\"zerolinecolor\":\"white\",\"automargin\":true,\"zerolinewidth\":2},\"scene\":{\"xaxis\":{\"backgroundcolor\":\"#E5ECF6\",\"gridcolor\":\"white\",\"linecolor\":\"white\",\"showbackground\":true,\"ticks\":\"\",\"zerolinecolor\":\"white\",\"gridwidth\":2},\"yaxis\":{\"backgroundcolor\":\"#E5ECF6\",\"gridcolor\":\"white\",\"linecolor\":\"white\",\"showbackground\":true,\"ticks\":\"\",\"zerolinecolor\":\"white\",\"gridwidth\":2},\"zaxis\":{\"backgroundcolor\":\"#E5ECF6\",\"gridcolor\":\"white\",\"linecolor\":\"white\",\"showbackground\":true,\"ticks\":\"\",\"zerolinecolor\":\"white\",\"gridwidth\":2}},\"shapedefaults\":{\"line\":{\"color\":\"#2a3f5f\"}},\"annotationdefaults\":{\"arrowcolor\":\"#2a3f5f\",\"arrowhead\":0,\"arrowwidth\":1},\"geo\":{\"bgcolor\":\"white\",\"landcolor\":\"#E5ECF6\",\"subunitcolor\":\"white\",\"showland\":true,\"showlakes\":true,\"lakecolor\":\"white\"},\"title\":{\"x\":0.05},\"mapbox\":{\"style\":\"light\"}}},\"yaxis\":{\"title\":{\"text\":\"Accuracy\"},\"range\":[0,1.0]},\"updatemenus\":[{\"bgcolor\":\"lightblue\",\"buttons\":[{\"args\":[{\"y\":[[0.0990990990990991,0.7567567567567568,0.6576576576576577,0.7657657657657657,0.6486486486486487],[0.1419939577039275,0.8882175226586103,1.0,1.0,0.8821752265861027]]},{\"yaxis.title.text\":\"Accuracy\"}],\"label\":\"Accuracy\",\"method\":\"update\"},{\"args\":[{\"y\":[[0.00990990990990991,0.7816475191475192,0.675873015873016,0.7678416149068323,0.6667920666290231],[0.01419939577039275,0.8995169863533181,1.0,1.0,0.87920012319309]]},{\"yaxis.title.text\":\"Precision\"}],\"label\":\"Precision\",\"method\":\"update\"},{\"args\":[{\"y\":[[0.1,0.7508333333333332,0.6693144682115271,0.7406313131313131,0.6367959001782532],[0.1,0.8724486280022872,1.0,1.0,0.8732900463029643]]},{\"yaxis.title.text\":\"Recall\"}],\"label\":\"Recall\",\"method\":\"update\"},{\"args\":[{\"y\":[[0.0180327868852459,0.7424949091278716,0.6639855359749498,0.7463405093989801,0.6365854396499557],[0.02486772486772487,0.8808192530668775,1.0,1.0,0.8746313970589986]]},{\"yaxis.title.text\":\"f1 Score\"}],\"label\":\"f1\",\"method\":\"update\"}],\"direction\":\"down\",\"showactive\":true}],\"legend\":{\"yanchor\":\"top\",\"y\":0.99,\"xanchor\":\"left\",\"x\":0.01},\"title\":{\"text\":\"Macro Averaged Metric Scores For Selected Classifiers\",\"x\":0.5},\"xaxis\":{\"title\":{\"text\":\"Classifiers\"}},\"margin\":{\"t\":150},\"annotations\":[{\"font\":{\"color\":\"black\",\"size\":12},\"showarrow\":false,\"text\":\"Note: Larger values of these metrics for the training set indicate overfitting\",\"textangle\":0,\"x\":1.82,\"xref\":\"x\",\"y\":1.2,\"yref\":\"paper\"}]},                        {\"responsive\": true}                    ).then(function(){\n",
              "                            \n",
              "var gd = document.getElementById('1162fa67-a18a-4cfe-9362-4418fcbcf1e5');\n",
              "var x = new MutationObserver(function (mutations, observer) {{\n",
              "        var display = window.getComputedStyle(gd).display;\n",
              "        if (!display || display === 'none') {{\n",
              "            console.log([gd, 'removed!']);\n",
              "            Plotly.purge(gd);\n",
              "            observer.disconnect();\n",
              "        }}\n",
              "}});\n",
              "\n",
              "// Listen for the removal of the full notebook cells\n",
              "var notebookContainer = gd.closest('#notebook-container');\n",
              "if (notebookContainer) {{\n",
              "    x.observe(notebookContainer, {childList: true});\n",
              "}}\n",
              "\n",
              "// Listen for the clearing of the current output cell\n",
              "var outputEl = gd.closest('.output');\n",
              "if (outputEl) {{\n",
              "    x.observe(outputEl, {childList: true});\n",
              "}}\n",
              "\n",
              "                        })                };                            </script>        </div>\n",
              "</body>\n",
              "</html>"
            ]
          },
          "metadata": {}
        }
      ]
    },
    {
      "cell_type": "markdown",
      "id": "d5698dca",
      "metadata": {
        "id": "d5698dca"
      },
      "source": [
        "# Part 2: Breast Cancer dataset"
      ]
    },
    {
      "cell_type": "code",
      "source": [
        "data = pd.read_csv('bc_data.csv')"
      ],
      "metadata": {
        "id": "wgw_0ARS6Q1f",
        "outputId": "1c1f7ec6-9954-44ce-adcd-77890dac4497",
        "colab": {
          "base_uri": "https://localhost:8080/",
          "height": 144
        }
      },
      "id": "wgw_0ARS6Q1f",
      "execution_count": null,
      "outputs": [
        {
          "output_type": "error",
          "ename": "NameError",
          "evalue": "name 'pd' is not defined",
          "traceback": [
            "\u001b[0;31m---------------------------------------------------------------------------\u001b[0m",
            "\u001b[0;31mNameError\u001b[0m                                 Traceback (most recent call last)",
            "\u001b[0;32m<ipython-input-1-4062a634bc6e>\u001b[0m in \u001b[0;36m<cell line: 1>\u001b[0;34m()\u001b[0m\n\u001b[0;32m----> 1\u001b[0;31m \u001b[0mdata\u001b[0m \u001b[0;34m=\u001b[0m \u001b[0mpd\u001b[0m\u001b[0;34m.\u001b[0m\u001b[0mread_csv\u001b[0m\u001b[0;34m(\u001b[0m\u001b[0;34m'bc_data.csv'\u001b[0m\u001b[0;34m)\u001b[0m\u001b[0;34m\u001b[0m\u001b[0;34m\u001b[0m\u001b[0m\n\u001b[0m",
            "\u001b[0;31mNameError\u001b[0m: name 'pd' is not defined"
          ]
        }
      ]
    },
    {
      "cell_type": "code",
      "source": [
        "print(data.columns)"
      ],
      "metadata": {
        "id": "-bxWK8ob6i0P",
        "colab": {
          "base_uri": "https://localhost:8080/"
        },
        "outputId": "91d498ee-bd37-493c-e448-3a7db39d5b5c"
      },
      "id": "-bxWK8ob6i0P",
      "execution_count": null,
      "outputs": [
        {
          "output_type": "stream",
          "name": "stdout",
          "text": [
            "Index(['mean radius', 'mean texture', 'mean perimeter', 'mean area',\n",
            "       'mean smoothness', 'mean compactness', 'mean concavity',\n",
            "       'mean concave points', 'mean symmetry', 'mean fractal dimension',\n",
            "       'radius error', 'texture error', 'perimeter error', 'area error',\n",
            "       'smoothness error', 'compactness error', 'concavity error',\n",
            "       'concave points error', 'symmetry error', 'fractal dimension error',\n",
            "       'worst radius', 'worst texture', 'worst perimeter', 'worst area',\n",
            "       'worst smoothness', 'worst compactness', 'worst concavity',\n",
            "       'worst concave points', 'worst symmetry', 'worst fractal dimension',\n",
            "       'malignant'],\n",
            "      dtype='object')\n"
          ]
        }
      ]
    },
    {
      "cell_type": "code",
      "source": [
        "# Visualise feature correlation for feature selection\n",
        "\n",
        "feature_corr = data.corr()\n",
        "fig = px.imshow(feature_corr)\n",
        "fig.show()\n",
        "\n",
        "# From confusion matrix most correlated features = Smoothness Error, Mean Fractal Dimension, Symmetry Error, Texture Error,\n",
        "# For simplicity I will drop Texture Error as it is the least correlated of the 4 and create a new dataset of the first 3"
      ],
      "metadata": {
        "id": "cH0Zmttc6yyS",
        "colab": {
          "base_uri": "https://localhost:8080/",
          "height": 542
        },
        "outputId": "0b12d9d7-723a-4885-e4b5-997e02187c04"
      },
      "id": "cH0Zmttc6yyS",
      "execution_count": null,
      "outputs": [
        {
          "output_type": "display_data",
          "data": {
            "text/html": [
              "<html>\n",
              "<head><meta charset=\"utf-8\" /></head>\n",
              "<body>\n",
              "    <div>            <script src=\"https://cdnjs.cloudflare.com/ajax/libs/mathjax/2.7.5/MathJax.js?config=TeX-AMS-MML_SVG\"></script><script type=\"text/javascript\">if (window.MathJax && window.MathJax.Hub && window.MathJax.Hub.Config) {window.MathJax.Hub.Config({SVG: {font: \"STIX-Web\"}});}</script>                <script type=\"text/javascript\">window.PlotlyConfig = {MathJaxConfig: 'local'};</script>\n",
              "        <script charset=\"utf-8\" src=\"https://cdn.plot.ly/plotly-2.24.1.min.js\"></script>                <div id=\"eba07125-5bbb-4f13-9e53-08392b18f025\" class=\"plotly-graph-div\" style=\"height:525px; width:100%;\"></div>            <script type=\"text/javascript\">                                    window.PLOTLYENV=window.PLOTLYENV || {};                                    if (document.getElementById(\"eba07125-5bbb-4f13-9e53-08392b18f025\")) {                    Plotly.newPlot(                        \"eba07125-5bbb-4f13-9e53-08392b18f025\",                        [{\"coloraxis\":\"coloraxis\",\"name\":\"0\",\"x\":[\"mean radius\",\"mean texture\",\"mean perimeter\",\"mean area\",\"mean smoothness\",\"mean compactness\",\"mean concavity\",\"mean concave points\",\"mean symmetry\",\"mean fractal dimension\",\"radius error\",\"texture error\",\"perimeter error\",\"area error\",\"smoothness error\",\"compactness error\",\"concavity error\",\"concave points error\",\"symmetry error\",\"fractal dimension error\",\"worst radius\",\"worst texture\",\"worst perimeter\",\"worst area\",\"worst smoothness\",\"worst compactness\",\"worst concavity\",\"worst concave points\",\"worst symmetry\",\"worst fractal dimension\",\"malignant\"],\"y\":[\"mean radius\",\"mean texture\",\"mean perimeter\",\"mean area\",\"mean smoothness\",\"mean compactness\",\"mean concavity\",\"mean concave points\",\"mean symmetry\",\"mean fractal dimension\",\"radius error\",\"texture error\",\"perimeter error\",\"area error\",\"smoothness error\",\"compactness error\",\"concavity error\",\"concave points error\",\"symmetry error\",\"fractal dimension error\",\"worst radius\",\"worst texture\",\"worst perimeter\",\"worst area\",\"worst smoothness\",\"worst compactness\",\"worst concavity\",\"worst concave points\",\"worst symmetry\",\"worst fractal dimension\",\"malignant\"],\"z\":[[1.0,0.3289957665431015,0.9978732385660418,0.9873704133546429,0.16495895573503205,0.5038235221085,0.6756567276277072,0.8227219374653448,0.1427881698087485,-0.3185904732623581,0.6788298770409364,-0.09777477209178301,0.6744928108102077,0.7361027360497573,-0.22449191270492794,0.20310158318834357,0.19174770982360279,0.3744523472963361,-0.10995136394284122,-0.04538441067197084,0.9699755958653541,0.2999637846279377,0.9663127034603168,0.9416607198051706,0.11488560870335755,0.41084630498013786,0.524316688546515,0.7440851776375761,0.15917482987520587,0.003046526549731078,-0.7290580820563112],[0.3289957665431015,1.0,0.33553397148638603,0.32553830911595133,-0.02307488413450933,0.25111564062159025,0.3133045289344595,0.30409016393229366,0.07688908181144592,-0.07093686984115155,0.28618090182961625,0.3825488927581349,0.2946402108328795,0.2702303840604552,0.0027067743034061946,0.19802943314829646,0.1453546243181406,0.16602649701087424,0.007780044319261444,0.056630106546555196,0.36186541394139815,0.9121270324961482,0.3695946911565727,0.3530651853679499,0.08090851739591617,0.29267854970322754,0.31160706313204395,0.30736236121676275,0.11516184763632666,0.12804185901915519,-0.42275373833484986],[0.9978732385660418,0.33553397148638603,1.0,0.9865893434689622,0.20145766531548684,0.5544590329957634,0.7148472268297895,0.8509546833828144,0.17769853296225366,-0.2689042996413574,0.6911183590139864,-0.08707078054376453,0.6930718333245222,0.74483962451728,-0.20461377301982941,0.24769042390603402,0.22554934416449526,0.4055328185774576,-0.08757177389080702,-0.008447833564609732,0.9697047025976903,0.30656638071298115,0.9712779015729681,0.9418948039189983,0.14557680167460668,0.4529210148611688,0.5610830158275922,0.7709170195904714,0.1837954525966857,0.04667200336865672,-0.7415201198182129],[0.9873704133546429,0.32553830911595133,0.9865893434689622,1.0,0.17230690026283133,0.4968438506853707,0.685627403264216,0.8240370142341943,0.14681656992057357,-0.2893090679558743,0.732919752589587,-0.06688009327014627,0.7276417556376429,0.8009496113343807,-0.16831111317118663,0.2100288689391715,0.2055052126437582,0.3706938946359431,-0.07744205745649042,-0.022318900599465553,0.9633164114359167,0.28985407972464694,0.960499355177039,0.9599808182789327,0.11951055883822118,0.38818879199432804,0.5104466151240898,0.7221685703491283,0.13910878045423075,0.00010086289118692091,-0.7085872568181049],[0.16495895573503205,-0.02307488413450933,0.20145766531548684,0.17230690026283133,1.0,0.657813814299765,0.5162754186854778,0.5488602831511727,0.5549419847791236,0.5837917321386312,0.2955626601699474,0.06731959989168927,0.2908507696827253,0.24054210891832806,0.33214302878720625,0.3165818527047273,0.2453022007460178,0.3796968461534825,0.19440451582735988,0.2816387404585856,0.2067767166062708,0.03594736476483133,0.2321618904306532,0.20079910090327516,0.8047946021455338,0.4714987724562336,0.4314335319945664,0.501027036669495,0.3909402564855684,0.4996345515463287,-0.35161621970911927],[0.5038235221085,0.25111564062159025,0.5544590329957634,0.4968438506853707,0.657813814299765,1.0,0.8816536411431274,0.82863767338463,0.5976695018173785,0.5609254211519649,0.49021911774904303,0.04891142055338467,0.5415418911053219,0.44770895880434886,0.13702073232705725,0.7396089274638779,0.571676741324493,0.6442564675897346,0.22554442747933529,0.5079309076325973,0.5300189049274139,0.2579661670820889,0.5842951899978082,0.5037374490959946,0.5632672342447731,0.8647051899080724,0.814599973046336,0.8137629297211828,0.5022022934764003,0.6856164547129503,-0.5943748183507097],[0.6756567276277072,0.3133045289344595,0.7148472268297895,0.685627403264216,0.5162754186854778,0.8816536411431274,1.0,0.9201982859564847,0.49467068858415825,0.32984573128530986,0.6274816631454846,0.07724347524709298,0.656631026727479,0.6130656627697829,0.09765361881068692,0.6696762802155551,0.692204616651946,0.6848884546794491,0.17026595798478583,0.44810478402864967,0.6854026675907227,0.3074237447233018,0.7266285810226246,0.6731155624068791,0.44440164069327986,0.7537892472602844,0.8837994684786902,0.8613417497434125,0.4019318388938297,0.5122011594306963,-0.6941388561534014],[0.8227219374653448,0.30409016393229366,0.8509546833828144,0.8240370142341943,0.5488602831511727,0.82863767338463,0.9201982859564847,1.0,0.45609065937520143,0.15832004648551098,0.695031826804901,0.022283370155775886,0.7077874431427195,0.6872985217632643,0.026822372370075814,0.48806133846508837,0.4377395419063308,0.6160147041414946,0.08832932779572857,0.2550387421124857,0.8289848070651127,0.29958124171472256,0.8544591526529276,0.8082266351189255,0.4480744492078996,0.6642494346502864,0.7497622498016541,0.9101330544972319,0.36765181955448695,0.36398537396413233,-0.7754070292454055],[0.1427881698087485,0.07688908181144592,0.17769853296225366,0.14681656992057357,0.5549419847791236,0.5976695018173785,0.49467068858415825,0.45609065937520143,1.0,0.4752972703390367,0.29575642010182757,0.12875034926648918,0.30569531069412637,0.2154916117618386,0.18824263796401125,0.4193708206872254,0.3410951425294035,0.39187562109468094,0.44861684752156106,0.33025831781248993,0.17836527413823733,0.09335488504339863,0.21082498335001684,0.16945609207773396,0.42315057212102214,0.46852432269673533,0.42860902184073774,0.4248769726923572,0.6966252163405917,0.43466950903853235,-0.3262193482843811],[-0.3185904732623581,-0.07093686984115155,-0.2689042996413574,-0.2893090679558743,0.5837917321386312,0.5609254211519649,0.32984573128530986,0.15832004648551098,0.4752972703390367,1.0,-0.010748548694641062,0.16609472804701858,0.028558628120934956,-0.10178380485288958,0.4041414274565156,0.5583654715795114,0.4459339518629131,0.34068010668494364,0.34224780115862413,0.6883350045047548,-0.2637044037612017,-0.047515612234152405,-0.21665264245326518,-0.24219865317271638,0.5037029855468407,0.4549734685223829,0.34168675550107996,0.16883016064227355,0.3270277000040833,0.7663804559647674,0.018604271035272194],[0.6788298770409364,0.28618090182961625,0.6911183590139864,0.732919752589587,0.2955626601699474,0.49021911774904303,0.6274816631454846,0.695031826804901,0.29575642010182757,-0.010748548694641062,1.0,0.21557026766257611,0.9728243958224301,0.9512975561033894,0.1647641169746844,0.3523203014302298,0.3302257781350458,0.5135154590408808,0.23511058402594304,0.22413798109249786,0.7132495571125657,0.20125113389003488,0.7173010299178892,0.7497279208409371,0.13643033845702585,0.2797887432691902,0.3749686759557628,0.5276315185004721,0.08326828730458488,0.04166683012659854,-0.566702080744965],[-0.09777477209178301,0.3825488927581349,-0.08707078054376453,-0.06688009327014627,0.06731959989168927,0.04891142055338467,0.07724347524709298,0.022283370155775886,0.12875034926648918,0.16609472804701858,0.21557026766257611,1.0,0.226971950639381,0.11326904958057199,0.3961521657244755,0.23365445803590337,0.1951554434420535,0.23083660819929122,0.41229710986284973,0.28039129510391836,-0.1114768156335189,0.4061501113976518,-0.10161753062035014,-0.0828974243096524,-0.07384326746928935,-0.08957375785186412,-0.06783419657867763,-0.11851671465475422,-0.1277075522204901,-0.0436357750489445,0.008555181117174945],[0.6744928108102077,0.2946402108328795,0.6930718333245222,0.7276417556376429,0.2908507696827253,0.5415418911053219,0.656631026727479,0.7077874431427195,0.30569531069412637,0.028558628120934956,0.9728243958224301,0.226971950639381,1.0,0.9370443198244185,0.15287447887376676,0.41349738783918627,0.36150157108209885,0.5570702939411843,0.26375167216349105,0.2414853275605709,0.6950704381025044,0.20809287678326516,0.7181902694985177,0.7284566207258201,0.12402833418954716,0.3336567487184216,0.4130757256948954,0.5506723411987263,0.09702940367396012,0.07652826693661388,-0.556373736893327],[0.7361027360497573,0.2702303840604552,0.74483962451728,0.8009496113343807,0.24054210891832806,0.44770895880434886,0.6130656627697829,0.6872985217632643,0.2154916117618386,-0.10178380485288958,0.9512975561033894,0.11326904958057199,0.9370443198244185,1.0,0.07522190498333645,0.2806705758176503,0.26859930524456604,0.4150700264261364,0.12818269802101467,0.12305349775243063,0.7558923476789443,0.20295847114110552,0.7591767239901905,0.8100591297509768,0.11984757591907166,0.27556322491794244,0.37945447408593547,0.5345329335859056,0.062448746015675405,0.009195308167607299,-0.5477840499201063],[-0.22449191270492794,0.0027067743034061946,-0.20461377301982941,-0.16831111317118663,0.33214302878720625,0.13702073232705725,0.09765361881068692,0.026822372370075814,0.18824263796401125,0.4041414274565156,0.1647641169746844,0.3961521657244755,0.15287447887376676,0.07522190498333645,1.0,0.3368638572827276,0.26747099563702986,0.3290756478522321,0.4113260578129555,0.4266354712429935,-0.2321198326493161,-0.07703535476201832,-0.21856523918657061,-0.18319943948070183,0.31576590787706976,-0.05404279896873912,-0.05858252698603949,-0.10173615617300699,-0.10706011628960407,0.10326507806757368,0.06961615941830164],[0.20310158318834357,0.19802943314829646,0.24769042390603402,0.2100288689391715,0.3165818527047273,0.7396089274638779,0.6696762802155551,0.48806133846508837,0.4193708206872254,0.5583654715795114,0.3523203014302298,0.23365445803590337,0.41349738783918627,0.2806705758176503,0.3368638572827276,1.0,0.8009310253237116,0.7443586238672416,0.39255904112241774,0.8029582337375175,0.20065596500966873,0.14766187498834848,0.25657108826138525,0.195328714680013,0.2251533604378094,0.6788137968223501,0.6379380585642632,0.4813465595870451,0.2741929609486231,0.5897638966463077,-0.29020363389395715],[0.19174770982360279,0.1453546243181406,0.22554934416449526,0.2055052126437582,0.2453022007460178,0.571676741324493,0.692204616651946,0.4377395419063308,0.3410951425294035,0.4459339518629131,0.3302257781350458,0.1951554434420535,0.36150157108209885,0.26859930524456604,0.26747099563702986,0.8009310253237116,1.0,0.7720165353292597,0.30629501772329587,0.7267598707758018,0.1842553887953991,0.10200625675987354,0.22429671836457016,0.18584675001712145,0.16638336229548895,0.48556784363899846,0.6630676035487091,0.4401893618819736,0.1958584777486883,0.4390873602815198,-0.2507959464818404],[0.3744523472963361,0.16602649701087424,0.4055328185774576,0.3706938946359431,0.3796968461534825,0.6442564675897346,0.6848884546794491,0.6160147041414946,0.39187562109468094,0.34068010668494364,0.5135154590408808,0.23083660819929122,0.5570702939411843,0.4150700264261364,0.3290756478522321,0.7443586238672416,0.7720165353292597,1.0,0.31354170671819964,0.6115422519609706,0.35612243172919605,0.08711426444003532,0.39338000861954486,0.34031071964155357,0.21308826047166568,0.4521575882734684,0.5486191857625023,0.6020008989832172,0.1399221425364965,0.3093062374150561,-0.4065293420070527],[-0.10995136394284122,0.007780044319261444,-0.08757177389080702,-0.07744205745649042,0.19440451582735988,0.22554442747933529,0.17026595798478583,0.08832932779572857,0.44861684752156106,0.34224780115862413,0.23511058402594304,0.41229710986284973,0.26375167216349105,0.12818269802101467,0.4113260578129555,0.39255904112241774,0.30629501772329587,0.31354170671819964,1.0,0.3654536937831364,-0.1345755741967145,-0.07740166943898145,-0.11037605652074897,-0.11672046574625834,-0.016319496285684493,0.05806936361613043,0.032385494461100554,-0.03432099589584175,0.3904382898205734,0.0760123228294985,0.013444048617361051],[-0.04538441067197084,0.056630106546555196,-0.008447833564609732,-0.022318900599465553,0.2816387404585856,0.5079309076325973,0.44810478402864967,0.2550387421124857,0.33025831781248993,0.6883350045047548,0.22413798109249786,0.28039129510391836,0.2414853275605709,0.12305349775243063,0.4266354712429935,0.8029582337375175,0.7267598707758018,0.6115422519609706,0.3654536937831364,1.0,-0.041019130021625626,-0.0008677105980768649,-0.0047177467086537955,-0.026347921737579216,0.1695821255478697,0.39056873493729927,0.37920842467823695,0.21396098747215853,0.10820893074409278,0.5918114671886264,-0.07538220524699246],[0.9699755958653541,0.36186541394139815,0.9697047025976903,0.9633164114359167,0.2067767166062708,0.5300189049274139,0.6854026675907227,0.8289848070651127,0.17836527413823733,-0.2637044037612017,0.7132495571125657,-0.1114768156335189,0.6950704381025044,0.7558923476789443,-0.2321198326493161,0.20065596500966873,0.1842553887953991,0.35612243172919605,-0.1345755741967145,-0.041019130021625626,1.0,0.36574884525457907,0.9938154920349025,0.9839732597619194,0.21117335077256494,0.47093303908693945,0.5700591927993477,0.785908645969623,0.23593340647432692,0.08733663177591633,-0.7762257900978345],[0.2999637846279377,0.9121270324961482,0.30656638071298115,0.28985407972464694,0.03594736476483133,0.2579661670820889,0.3074237447233018,0.29958124171472256,0.09335488504339863,-0.047515612234152405,0.20125113389003488,0.4061501113976518,0.20809287678326516,0.20295847114110552,-0.07703535476201832,0.14766187498834848,0.10200625675987354,0.08711426444003532,-0.07740166943898145,-0.0008677105980768649,0.36574884525457907,1.0,0.372454476671694,0.35180318295104535,0.22761839981193321,0.3716693125068532,0.3759555565437854,0.3678829147952198,0.2403457407757386,0.22571884963955713,-0.46235223947167153],[0.9663127034603168,0.3695946911565727,0.9712779015729681,0.960499355177039,0.2321618904306532,0.5842951899978082,0.7266285810226246,0.8544591526529276,0.21082498335001684,-0.21665264245326518,0.7173010299178892,-0.10161753062035014,0.7181902694985177,0.7591767239901905,-0.21856523918657061,0.25657108826138525,0.22429671836457016,0.39338000861954486,-0.11037605652074897,-0.0047177467086537955,0.9938154920349025,0.372454476671694,1.0,0.9775202527623758,0.23090935432589635,0.5239856587203844,0.6143295474615177,0.8146673865787,0.2604839500719797,0.13190814299662276,-0.7831824806913369],[0.9416607198051706,0.3530651853679499,0.9418948039189983,0.9599808182789327,0.20079910090327516,0.5037374490959946,0.6731155624068791,0.8082266351189255,0.16945609207773396,-0.24219865317271638,0.7497279208409371,-0.0828974243096524,0.7284566207258201,0.8100591297509768,-0.18319943948070183,0.195328714680013,0.18584675001712145,0.34031071964155357,-0.11672046574625834,-0.026347921737579216,0.9839732597619194,0.35180318295104535,0.9775202527623758,1.0,0.2040834453451411,0.43286011640985866,0.539242569684289,0.7455859735287422,0.20068677696000137,0.07302419855784781,-0.7340389057587846],[0.11488560870335755,0.08090851739591617,0.14557680167460668,0.11951055883822118,0.8047946021455338,0.5632672342447731,0.44440164069327986,0.4480744492078996,0.42315057212102214,0.5037029855468407,0.13643033845702585,-0.07384326746928935,0.12402833418954716,0.11984757591907166,0.31576590787706976,0.2251533604378094,0.16638336229548895,0.21308826047166568,-0.016319496285684493,0.1695821255478697,0.21117335077256494,0.22761839981193321,0.23090935432589635,0.2040834453451411,1.0,0.5666671691479387,0.5155859332084105,0.5450306986607979,0.49138723261197287,0.6173579097425207,-0.41683852175282543],[0.41084630498013786,0.29267854970322754,0.4529210148611688,0.38818879199432804,0.4714987724562336,0.8647051899080724,0.7537892472602844,0.6642494346502864,0.46852432269673533,0.4549734685223829,0.2797887432691902,-0.08957375785186412,0.3336567487184216,0.27556322491794244,-0.05404279896873912,0.6788137968223501,0.48556784363899846,0.4521575882734684,0.05806936361613043,0.39056873493729927,0.47093303908693945,0.3716693125068532,0.5239856587203844,0.43286011640985866,0.5666671691479387,1.0,0.8915185207688352,0.798585770090672,0.6096947108983158,0.8094872506997388,-0.5900420212172883],[0.524316688546515,0.31160706313204395,0.5610830158275922,0.5104466151240898,0.4314335319945664,0.814599973046336,0.8837994684786902,0.7497622498016541,0.42860902184073774,0.34168675550107996,0.3749686759557628,-0.06783419657867763,0.4130757256948954,0.37945447408593547,-0.05858252698603949,0.6379380585642632,0.6630676035487091,0.5486191857625023,0.032385494461100554,0.37920842467823695,0.5700591927993477,0.3759555565437854,0.6143295474615177,0.539242569684289,0.5155859332084105,0.8915185207688352,1.0,0.8538203471847132,0.5277973044416028,0.6848238260055867,-0.6574862320450262],[0.7440851776375761,0.30736236121676275,0.7709170195904714,0.7221685703491283,0.501027036669495,0.8137629297211828,0.8613417497434125,0.9101330544972319,0.4248769726923572,0.16883016064227355,0.5276315185004721,-0.11851671465475422,0.5506723411987263,0.5345329335859056,-0.10173615617300699,0.4813465595870451,0.4401893618819736,0.6020008989832172,-0.03432099589584175,0.21396098747215853,0.785908645969623,0.3678829147952198,0.8146673865787,0.7455859735287422,0.5450306986607979,0.798585770090672,0.8538203471847132,1.0,0.49673051452465067,0.5075528601075905,-0.7937753395566568],[0.15917482987520587,0.11516184763632666,0.1837954525966857,0.13910878045423075,0.3909402564855684,0.5022022934764003,0.4019318388938297,0.36765181955448695,0.6966252163405917,0.3270277000040833,0.08326828730458488,-0.1277075522204901,0.09702940367396012,0.062448746015675405,-0.10706011628960407,0.2741929609486231,0.1958584777486883,0.1399221425364965,0.3904382898205734,0.10820893074409278,0.23593340647432692,0.2403457407757386,0.2604839500719797,0.20068677696000137,0.49138723261197287,0.6096947108983158,0.5277973044416028,0.49673051452465067,1.0,0.5338154372459082,-0.4140477522579473],[0.003046526549731078,0.12804185901915519,0.04667200336865672,0.00010086289118692091,0.4996345515463287,0.6856164547129503,0.5122011594306963,0.36398537396413233,0.43466950903853235,0.7663804559647674,0.04166683012659854,-0.0436357750489445,0.07652826693661388,0.009195308167607299,0.10326507806757368,0.5897638966463077,0.4390873602815198,0.3093062374150561,0.0760123228294985,0.5918114671886264,0.08733663177591633,0.22571884963955713,0.13190814299662276,0.07302419855784781,0.6173579097425207,0.8094872506997388,0.6848238260055867,0.5075528601075905,0.5338154372459082,1.0,-0.32228723434345835],[-0.7290580820563112,-0.42275373833484986,-0.7415201198182129,-0.7085872568181049,-0.35161621970911927,-0.5943748183507097,-0.6941388561534014,-0.7754070292454055,-0.3262193482843811,0.018604271035272194,-0.566702080744965,0.008555181117174945,-0.556373736893327,-0.5477840499201063,0.06961615941830164,-0.29020363389395715,-0.2507959464818404,-0.4065293420070527,0.013444048617361051,-0.07538220524699246,-0.7762257900978345,-0.46235223947167153,-0.7831824806913369,-0.7340389057587846,-0.41683852175282543,-0.5900420212172883,-0.6574862320450262,-0.7937753395566568,-0.4140477522579473,-0.32228723434345835,1.0]],\"type\":\"heatmap\",\"xaxis\":\"x\",\"yaxis\":\"y\",\"hovertemplate\":\"x: %{x}\\u003cbr\\u003ey: %{y}\\u003cbr\\u003ecolor: %{z}\\u003cextra\\u003e\\u003c\\u002fextra\\u003e\"}],                        {\"template\":{\"data\":{\"histogram2dcontour\":[{\"type\":\"histogram2dcontour\",\"colorbar\":{\"outlinewidth\":0,\"ticks\":\"\"},\"colorscale\":[[0.0,\"#0d0887\"],[0.1111111111111111,\"#46039f\"],[0.2222222222222222,\"#7201a8\"],[0.3333333333333333,\"#9c179e\"],[0.4444444444444444,\"#bd3786\"],[0.5555555555555556,\"#d8576b\"],[0.6666666666666666,\"#ed7953\"],[0.7777777777777778,\"#fb9f3a\"],[0.8888888888888888,\"#fdca26\"],[1.0,\"#f0f921\"]]}],\"choropleth\":[{\"type\":\"choropleth\",\"colorbar\":{\"outlinewidth\":0,\"ticks\":\"\"}}],\"histogram2d\":[{\"type\":\"histogram2d\",\"colorbar\":{\"outlinewidth\":0,\"ticks\":\"\"},\"colorscale\":[[0.0,\"#0d0887\"],[0.1111111111111111,\"#46039f\"],[0.2222222222222222,\"#7201a8\"],[0.3333333333333333,\"#9c179e\"],[0.4444444444444444,\"#bd3786\"],[0.5555555555555556,\"#d8576b\"],[0.6666666666666666,\"#ed7953\"],[0.7777777777777778,\"#fb9f3a\"],[0.8888888888888888,\"#fdca26\"],[1.0,\"#f0f921\"]]}],\"heatmap\":[{\"type\":\"heatmap\",\"colorbar\":{\"outlinewidth\":0,\"ticks\":\"\"},\"colorscale\":[[0.0,\"#0d0887\"],[0.1111111111111111,\"#46039f\"],[0.2222222222222222,\"#7201a8\"],[0.3333333333333333,\"#9c179e\"],[0.4444444444444444,\"#bd3786\"],[0.5555555555555556,\"#d8576b\"],[0.6666666666666666,\"#ed7953\"],[0.7777777777777778,\"#fb9f3a\"],[0.8888888888888888,\"#fdca26\"],[1.0,\"#f0f921\"]]}],\"heatmapgl\":[{\"type\":\"heatmapgl\",\"colorbar\":{\"outlinewidth\":0,\"ticks\":\"\"},\"colorscale\":[[0.0,\"#0d0887\"],[0.1111111111111111,\"#46039f\"],[0.2222222222222222,\"#7201a8\"],[0.3333333333333333,\"#9c179e\"],[0.4444444444444444,\"#bd3786\"],[0.5555555555555556,\"#d8576b\"],[0.6666666666666666,\"#ed7953\"],[0.7777777777777778,\"#fb9f3a\"],[0.8888888888888888,\"#fdca26\"],[1.0,\"#f0f921\"]]}],\"contourcarpet\":[{\"type\":\"contourcarpet\",\"colorbar\":{\"outlinewidth\":0,\"ticks\":\"\"}}],\"contour\":[{\"type\":\"contour\",\"colorbar\":{\"outlinewidth\":0,\"ticks\":\"\"},\"colorscale\":[[0.0,\"#0d0887\"],[0.1111111111111111,\"#46039f\"],[0.2222222222222222,\"#7201a8\"],[0.3333333333333333,\"#9c179e\"],[0.4444444444444444,\"#bd3786\"],[0.5555555555555556,\"#d8576b\"],[0.6666666666666666,\"#ed7953\"],[0.7777777777777778,\"#fb9f3a\"],[0.8888888888888888,\"#fdca26\"],[1.0,\"#f0f921\"]]}],\"surface\":[{\"type\":\"surface\",\"colorbar\":{\"outlinewidth\":0,\"ticks\":\"\"},\"colorscale\":[[0.0,\"#0d0887\"],[0.1111111111111111,\"#46039f\"],[0.2222222222222222,\"#7201a8\"],[0.3333333333333333,\"#9c179e\"],[0.4444444444444444,\"#bd3786\"],[0.5555555555555556,\"#d8576b\"],[0.6666666666666666,\"#ed7953\"],[0.7777777777777778,\"#fb9f3a\"],[0.8888888888888888,\"#fdca26\"],[1.0,\"#f0f921\"]]}],\"mesh3d\":[{\"type\":\"mesh3d\",\"colorbar\":{\"outlinewidth\":0,\"ticks\":\"\"}}],\"scatter\":[{\"fillpattern\":{\"fillmode\":\"overlay\",\"size\":10,\"solidity\":0.2},\"type\":\"scatter\"}],\"parcoords\":[{\"type\":\"parcoords\",\"line\":{\"colorbar\":{\"outlinewidth\":0,\"ticks\":\"\"}}}],\"scatterpolargl\":[{\"type\":\"scatterpolargl\",\"marker\":{\"colorbar\":{\"outlinewidth\":0,\"ticks\":\"\"}}}],\"bar\":[{\"error_x\":{\"color\":\"#2a3f5f\"},\"error_y\":{\"color\":\"#2a3f5f\"},\"marker\":{\"line\":{\"color\":\"#E5ECF6\",\"width\":0.5},\"pattern\":{\"fillmode\":\"overlay\",\"size\":10,\"solidity\":0.2}},\"type\":\"bar\"}],\"scattergeo\":[{\"type\":\"scattergeo\",\"marker\":{\"colorbar\":{\"outlinewidth\":0,\"ticks\":\"\"}}}],\"scatterpolar\":[{\"type\":\"scatterpolar\",\"marker\":{\"colorbar\":{\"outlinewidth\":0,\"ticks\":\"\"}}}],\"histogram\":[{\"marker\":{\"pattern\":{\"fillmode\":\"overlay\",\"size\":10,\"solidity\":0.2}},\"type\":\"histogram\"}],\"scattergl\":[{\"type\":\"scattergl\",\"marker\":{\"colorbar\":{\"outlinewidth\":0,\"ticks\":\"\"}}}],\"scatter3d\":[{\"type\":\"scatter3d\",\"line\":{\"colorbar\":{\"outlinewidth\":0,\"ticks\":\"\"}},\"marker\":{\"colorbar\":{\"outlinewidth\":0,\"ticks\":\"\"}}}],\"scattermapbox\":[{\"type\":\"scattermapbox\",\"marker\":{\"colorbar\":{\"outlinewidth\":0,\"ticks\":\"\"}}}],\"scatterternary\":[{\"type\":\"scatterternary\",\"marker\":{\"colorbar\":{\"outlinewidth\":0,\"ticks\":\"\"}}}],\"scattercarpet\":[{\"type\":\"scattercarpet\",\"marker\":{\"colorbar\":{\"outlinewidth\":0,\"ticks\":\"\"}}}],\"carpet\":[{\"aaxis\":{\"endlinecolor\":\"#2a3f5f\",\"gridcolor\":\"white\",\"linecolor\":\"white\",\"minorgridcolor\":\"white\",\"startlinecolor\":\"#2a3f5f\"},\"baxis\":{\"endlinecolor\":\"#2a3f5f\",\"gridcolor\":\"white\",\"linecolor\":\"white\",\"minorgridcolor\":\"white\",\"startlinecolor\":\"#2a3f5f\"},\"type\":\"carpet\"}],\"table\":[{\"cells\":{\"fill\":{\"color\":\"#EBF0F8\"},\"line\":{\"color\":\"white\"}},\"header\":{\"fill\":{\"color\":\"#C8D4E3\"},\"line\":{\"color\":\"white\"}},\"type\":\"table\"}],\"barpolar\":[{\"marker\":{\"line\":{\"color\":\"#E5ECF6\",\"width\":0.5},\"pattern\":{\"fillmode\":\"overlay\",\"size\":10,\"solidity\":0.2}},\"type\":\"barpolar\"}],\"pie\":[{\"automargin\":true,\"type\":\"pie\"}]},\"layout\":{\"autotypenumbers\":\"strict\",\"colorway\":[\"#636efa\",\"#EF553B\",\"#00cc96\",\"#ab63fa\",\"#FFA15A\",\"#19d3f3\",\"#FF6692\",\"#B6E880\",\"#FF97FF\",\"#FECB52\"],\"font\":{\"color\":\"#2a3f5f\"},\"hovermode\":\"closest\",\"hoverlabel\":{\"align\":\"left\"},\"paper_bgcolor\":\"white\",\"plot_bgcolor\":\"#E5ECF6\",\"polar\":{\"bgcolor\":\"#E5ECF6\",\"angularaxis\":{\"gridcolor\":\"white\",\"linecolor\":\"white\",\"ticks\":\"\"},\"radialaxis\":{\"gridcolor\":\"white\",\"linecolor\":\"white\",\"ticks\":\"\"}},\"ternary\":{\"bgcolor\":\"#E5ECF6\",\"aaxis\":{\"gridcolor\":\"white\",\"linecolor\":\"white\",\"ticks\":\"\"},\"baxis\":{\"gridcolor\":\"white\",\"linecolor\":\"white\",\"ticks\":\"\"},\"caxis\":{\"gridcolor\":\"white\",\"linecolor\":\"white\",\"ticks\":\"\"}},\"coloraxis\":{\"colorbar\":{\"outlinewidth\":0,\"ticks\":\"\"}},\"colorscale\":{\"sequential\":[[0.0,\"#0d0887\"],[0.1111111111111111,\"#46039f\"],[0.2222222222222222,\"#7201a8\"],[0.3333333333333333,\"#9c179e\"],[0.4444444444444444,\"#bd3786\"],[0.5555555555555556,\"#d8576b\"],[0.6666666666666666,\"#ed7953\"],[0.7777777777777778,\"#fb9f3a\"],[0.8888888888888888,\"#fdca26\"],[1.0,\"#f0f921\"]],\"sequentialminus\":[[0.0,\"#0d0887\"],[0.1111111111111111,\"#46039f\"],[0.2222222222222222,\"#7201a8\"],[0.3333333333333333,\"#9c179e\"],[0.4444444444444444,\"#bd3786\"],[0.5555555555555556,\"#d8576b\"],[0.6666666666666666,\"#ed7953\"],[0.7777777777777778,\"#fb9f3a\"],[0.8888888888888888,\"#fdca26\"],[1.0,\"#f0f921\"]],\"diverging\":[[0,\"#8e0152\"],[0.1,\"#c51b7d\"],[0.2,\"#de77ae\"],[0.3,\"#f1b6da\"],[0.4,\"#fde0ef\"],[0.5,\"#f7f7f7\"],[0.6,\"#e6f5d0\"],[0.7,\"#b8e186\"],[0.8,\"#7fbc41\"],[0.9,\"#4d9221\"],[1,\"#276419\"]]},\"xaxis\":{\"gridcolor\":\"white\",\"linecolor\":\"white\",\"ticks\":\"\",\"title\":{\"standoff\":15},\"zerolinecolor\":\"white\",\"automargin\":true,\"zerolinewidth\":2},\"yaxis\":{\"gridcolor\":\"white\",\"linecolor\":\"white\",\"ticks\":\"\",\"title\":{\"standoff\":15},\"zerolinecolor\":\"white\",\"automargin\":true,\"zerolinewidth\":2},\"scene\":{\"xaxis\":{\"backgroundcolor\":\"#E5ECF6\",\"gridcolor\":\"white\",\"linecolor\":\"white\",\"showbackground\":true,\"ticks\":\"\",\"zerolinecolor\":\"white\",\"gridwidth\":2},\"yaxis\":{\"backgroundcolor\":\"#E5ECF6\",\"gridcolor\":\"white\",\"linecolor\":\"white\",\"showbackground\":true,\"ticks\":\"\",\"zerolinecolor\":\"white\",\"gridwidth\":2},\"zaxis\":{\"backgroundcolor\":\"#E5ECF6\",\"gridcolor\":\"white\",\"linecolor\":\"white\",\"showbackground\":true,\"ticks\":\"\",\"zerolinecolor\":\"white\",\"gridwidth\":2}},\"shapedefaults\":{\"line\":{\"color\":\"#2a3f5f\"}},\"annotationdefaults\":{\"arrowcolor\":\"#2a3f5f\",\"arrowhead\":0,\"arrowwidth\":1},\"geo\":{\"bgcolor\":\"white\",\"landcolor\":\"#E5ECF6\",\"subunitcolor\":\"white\",\"showland\":true,\"showlakes\":true,\"lakecolor\":\"white\"},\"title\":{\"x\":0.05},\"mapbox\":{\"style\":\"light\"}}},\"xaxis\":{\"anchor\":\"y\",\"domain\":[0.0,1.0],\"scaleanchor\":\"y\",\"constrain\":\"domain\"},\"yaxis\":{\"anchor\":\"x\",\"domain\":[0.0,1.0],\"autorange\":\"reversed\",\"constrain\":\"domain\"},\"coloraxis\":{\"colorscale\":[[0.0,\"#0d0887\"],[0.1111111111111111,\"#46039f\"],[0.2222222222222222,\"#7201a8\"],[0.3333333333333333,\"#9c179e\"],[0.4444444444444444,\"#bd3786\"],[0.5555555555555556,\"#d8576b\"],[0.6666666666666666,\"#ed7953\"],[0.7777777777777778,\"#fb9f3a\"],[0.8888888888888888,\"#fdca26\"],[1.0,\"#f0f921\"]]},\"margin\":{\"t\":60}},                        {\"responsive\": true}                    ).then(function(){\n",
              "                            \n",
              "var gd = document.getElementById('eba07125-5bbb-4f13-9e53-08392b18f025');\n",
              "var x = new MutationObserver(function (mutations, observer) {{\n",
              "        var display = window.getComputedStyle(gd).display;\n",
              "        if (!display || display === 'none') {{\n",
              "            console.log([gd, 'removed!']);\n",
              "            Plotly.purge(gd);\n",
              "            observer.disconnect();\n",
              "        }}\n",
              "}});\n",
              "\n",
              "// Listen for the removal of the full notebook cells\n",
              "var notebookContainer = gd.closest('#notebook-container');\n",
              "if (notebookContainer) {{\n",
              "    x.observe(notebookContainer, {childList: true});\n",
              "}}\n",
              "\n",
              "// Listen for the clearing of the current output cell\n",
              "var outputEl = gd.closest('.output');\n",
              "if (outputEl) {{\n",
              "    x.observe(outputEl, {childList: true});\n",
              "}}\n",
              "\n",
              "                        })                };                            </script>        </div>\n",
              "</body>\n",
              "</html>"
            ]
          },
          "metadata": {}
        }
      ]
    },
    {
      "cell_type": "code",
      "source": [
        "# Create working data frame with only the top 3 most correlated features\n",
        "\n",
        "WorkData = pd.DataFrame(data.drop(data.loc[:, 'mean radius':'mean symmetry'].columns, axis=1))\n",
        "WorkData = WorkData.drop(WorkData.loc[:, 'radius error':'area error'].columns, axis=1)\n",
        "WorkData = WorkData.drop(WorkData.loc[:, 'compactness error':'concave points error'].columns, axis=1)\n",
        "WorkData = WorkData.drop(WorkData.loc[:, 'fractal dimension error':'worst fractal dimension'].columns, axis=1)\n",
        "WorkData = pd.DataFrame(WorkData)"
      ],
      "metadata": {
        "id": "8qtfUXHjBGEF"
      },
      "id": "8qtfUXHjBGEF",
      "execution_count": null,
      "outputs": []
    },
    {
      "cell_type": "code",
      "source": [
        "WorkData.head()"
      ],
      "metadata": {
        "id": "GZLTaVYWCMW9"
      },
      "id": "GZLTaVYWCMW9",
      "execution_count": null,
      "outputs": []
    },
    {
      "cell_type": "code",
      "source": [
        "# Test train split\n",
        "\n",
        "train_x, validation_x, train_y, validation_y = train_test_split(pd.DataFrame(WorkData[['mean fractal dimension','smoothness error','symmetry error']]), WorkData['malignant'], test_size=0.3, random_state = 123)\n",
        "\n",
        "print('Shape training set:', train_x.shape)\n",
        "print('Shape validation set:', validation_x.shape)"
      ],
      "metadata": {
        "id": "yCSG39HSEpR0",
        "colab": {
          "base_uri": "https://localhost:8080/"
        },
        "outputId": "63149a0d-230a-43b5-d3fd-b839319714e4"
      },
      "id": "yCSG39HSEpR0",
      "execution_count": null,
      "outputs": [
        {
          "output_type": "stream",
          "name": "stdout",
          "text": [
            "Shape training set: (394, 3)\n",
            "Shape validation set: (169, 3)\n"
          ]
        }
      ]
    },
    {
      "cell_type": "code",
      "source": [
        "# Model Training\n",
        "\n",
        "NNmodel = NN()\n",
        "\n",
        "PredictionModels = {\n",
        "\n",
        "    'Logistic Regression': LogisticRegression(max_iter = 500),\n",
        "    'Random Forest': RandomForestClassifier(),\n",
        "    'Neural Network': NNmodel\n",
        "}\n",
        "\n",
        "for name, model in PredictionModels.items():\n",
        "\n",
        "  if name != 'Neural Network':\n",
        "    print('training for classifer: {}'.format(name))\n",
        "    model.fit(train_x, train_y)\n",
        "\n",
        "  if name == 'Neural Network':\n",
        "    print('training for Neural Network: {}'.format(name))\n",
        "    model.fit(train_x, train_y.values.reshape(1,-1))\n",
        "\n",
        "print(\"done\")\n",
        "\n"
      ],
      "metadata": {
        "id": "iJwlSLHSHWxx",
        "colab": {
          "base_uri": "https://localhost:8080/"
        },
        "outputId": "a4f551b9-25c3-4ebc-9955-c0195e9348b3"
      },
      "id": "iJwlSLHSHWxx",
      "execution_count": null,
      "outputs": [
        {
          "output_type": "stream",
          "name": "stdout",
          "text": [
            "training for classifer: Logistic Regression\n",
            "training for classifer: Random Forest\n",
            "training for Neural Network: Neural Network\n",
            "done\n"
          ]
        }
      ]
    },
    {
      "cell_type": "code",
      "source": [
        "# Model Accuracies\n",
        "\n",
        "for name, model in PredictionModels.items():\n",
        "\n",
        "  if name != 'Neural Network':\n",
        "    print(name)\n",
        "    print('Accuracy on training set: %.3f' % model.score(train_x, train_y))\n",
        "    print('Accuracy on validation set: %.3f' % model.score(validation_x, validation_y))\n",
        "\n",
        "  if name == 'Neural Network':\n",
        "    print(name)\n",
        "    NNaccuracy, NNlogloss = model.evaluate(train_x, train_y)\n",
        "    print('Accuracy on training set: %.3f' % NNaccuracy)\n",
        "    NNaccuracy, NNlogloss = model.evaluate(validation_x, validation_y)\n",
        "    print('Accuracy on validation set: %.3f' %  NNaccuracy)\n"
      ],
      "metadata": {
        "id": "T_m9fzMZchm5",
        "colab": {
          "base_uri": "https://localhost:8080/"
        },
        "outputId": "5e883331-166a-4d0f-8284-ff6042357722"
      },
      "id": "T_m9fzMZchm5",
      "execution_count": null,
      "outputs": [
        {
          "output_type": "stream",
          "name": "stdout",
          "text": [
            "Logistic Regression\n",
            "Accuracy on training set: 0.617\n",
            "Accuracy on validation set: 0.663\n",
            "Random Forest\n",
            "Accuracy on training set: 1.000\n",
            "Accuracy on validation set: 0.657\n",
            "Neural Network\n",
            "Accuracy on training set: 0.622\n",
            "Accuracy on validation set: 0.663\n"
          ]
        }
      ]
    },
    {
      "cell_type": "code",
      "source": [
        "# Predictions vs Ground Truth Comparison\n",
        "\n",
        "for name, model in PredictionModels.items():\n",
        "\n",
        "  if name != 'Neural Network':\n",
        "    print('Model: ', name)\n",
        "    print('Predictions:', model.predict(validation_x[0:10]))\n",
        "    print('Ground truth:', validation_y[0:10].values.reshape(1,-1))\n",
        "\n",
        "\n",
        "print('Model: ','Neural Network')\n",
        "Pred, proba = NNmodel.predict(validation_x[0:10], return_proba=True)\n",
        "print('Predictions:', Pred)\n",
        "print('Ground truth:', validation_y[0:10].values.reshape(1,-1))"
      ],
      "metadata": {
        "id": "N5JcW8VpeVhU",
        "colab": {
          "base_uri": "https://localhost:8080/"
        },
        "outputId": "29e254d9-cdda-41ef-f79c-52caffa77402"
      },
      "id": "N5JcW8VpeVhU",
      "execution_count": null,
      "outputs": [
        {
          "output_type": "stream",
          "name": "stdout",
          "text": [
            "Model:  Logistic Regression\n",
            "Predictions: [1 1 1 1 1 1 1 1 1 1]\n",
            "Ground truth: [[1 1 1 0 1 0 1 1 0 1]]\n",
            "Model:  Random Forest\n",
            "Predictions: [1 1 1 1 1 1 1 1 1 1]\n",
            "Ground truth: [[1 1 1 0 1 0 1 1 0 1]]\n",
            "Model:  Neural Network\n",
            "Predictions: [1. 1. 1. 1. 1. 1. 1. 1. 1. 1.]\n",
            "Ground truth: [[1 1 1 0 1 0 1 1 0 1]]\n"
          ]
        }
      ]
    },
    {
      "cell_type": "code",
      "source": [
        "# ROC Plots for each model\n",
        "\n",
        "fig = go.Figure()\n",
        "\n",
        "fig.add_shape(\n",
        "    type='line', line=dict(dash='dash'),\n",
        "    x0=0, x1=1, y0=0, y1=1\n",
        ")\n",
        "\n",
        "# Plot ROC curve\n",
        "for name, model in PredictionModels.items():\n",
        "\n",
        "  if name != 'Neural Network':\n",
        "    y_true = validation_y\n",
        "    y_scores = model.predict_proba(validation_x)[:, 1]\n",
        "\n",
        "    fpr, tpr, thresholds = roc_curve(y_true, y_scores)\n",
        "    auc_score = roc_auc_score(y_true, y_scores)\n",
        "\n",
        "    name = f\"({name} AUC={auc_score:.2f})\"\n",
        "    fig.add_trace(go.Scatter(x=fpr, y=tpr, name=name, mode='lines'))\n",
        "\n",
        "  if name == 'Neural Network':\n",
        "    y_true = validation_y\n",
        "    pred, y_scores = NNmodel.predict(validation_x, return_proba=True)\n",
        "\n",
        "    fpr, tpr, thresholds = roc_curve(y_true, y_scores)\n",
        "    auc_score = roc_auc_score(y_true, y_scores)\n",
        "\n",
        "    name = f\"({name} AUC={auc_score:.2f})\"\n",
        "    fig.add_trace(go.Scatter(x=fpr, y=tpr, name=name, mode='lines'))\n",
        "\n",
        "fig.update_layout(\n",
        "    title_text = 'ROC Curves For Selected Models',\n",
        "    title_x = 0.5,\n",
        "    xaxis_title='False Positive Rate',\n",
        "    yaxis_title='True Positive Rate',\n",
        "    yaxis=dict(scaleanchor=\"x\", scaleratio=1),\n",
        "    xaxis=dict(constrain='domain'),\n",
        "    legend=dict(\n",
        "                                  yanchor=\"top\",\n",
        "                                  y=0.99,\n",
        "                                  xanchor=\"left\",\n",
        "                                  x=0.2\n",
        "                              ),\n",
        "    width=1000, height=750\n",
        ")\n",
        "fig.show()"
      ],
      "metadata": {
        "id": "NJMAqS2pql_I",
        "colab": {
          "base_uri": "https://localhost:8080/",
          "height": 767
        },
        "outputId": "ba9d6d26-17ea-44eb-868f-20b8ac076298"
      },
      "id": "NJMAqS2pql_I",
      "execution_count": null,
      "outputs": [
        {
          "output_type": "display_data",
          "data": {
            "text/html": [
              "<html>\n",
              "<head><meta charset=\"utf-8\" /></head>\n",
              "<body>\n",
              "    <div>            <script src=\"https://cdnjs.cloudflare.com/ajax/libs/mathjax/2.7.5/MathJax.js?config=TeX-AMS-MML_SVG\"></script><script type=\"text/javascript\">if (window.MathJax && window.MathJax.Hub && window.MathJax.Hub.Config) {window.MathJax.Hub.Config({SVG: {font: \"STIX-Web\"}});}</script>                <script type=\"text/javascript\">window.PlotlyConfig = {MathJaxConfig: 'local'};</script>\n",
              "        <script charset=\"utf-8\" src=\"https://cdn.plot.ly/plotly-2.24.1.min.js\"></script>                <div id=\"13306a3e-c274-4817-9bf8-8af152e9c85c\" class=\"plotly-graph-div\" style=\"height:750px; width:1000px;\"></div>            <script type=\"text/javascript\">                                    window.PLOTLYENV=window.PLOTLYENV || {};                                    if (document.getElementById(\"13306a3e-c274-4817-9bf8-8af152e9c85c\")) {                    Plotly.newPlot(                        \"13306a3e-c274-4817-9bf8-8af152e9c85c\",                        [{\"mode\":\"lines\",\"name\":\"(Logistic Regression AUC=0.52)\",\"x\":[0.0,0.017543859649122806,0.07017543859649122,0.07017543859649122,0.08771929824561403,0.08771929824561403,0.10526315789473684,0.10526315789473684,0.12280701754385964,0.12280701754385964,0.14035087719298245,0.14035087719298245,0.15789473684210525,0.15789473684210525,0.19298245614035087,0.19298245614035087,0.21052631578947367,0.21052631578947367,0.24561403508771928,0.24561403508771928,0.2807017543859649,0.2807017543859649,0.3157894736842105,0.3157894736842105,0.3333333333333333,0.3333333333333333,0.3508771929824561,0.3508771929824561,0.3684210526315789,0.3684210526315789,0.38596491228070173,0.38596491228070173,0.42105263157894735,0.42105263157894735,0.43859649122807015,0.43859649122807015,0.45614035087719296,0.45614035087719296,0.47368421052631576,0.47368421052631576,0.5087719298245614,0.5087719298245614,0.5263157894736842,0.5263157894736842,0.543859649122807,0.543859649122807,0.5614035087719298,0.5614035087719298,0.5964912280701754,0.5964912280701754,0.6140350877192983,0.6140350877192983,0.631578947368421,0.631578947368421,0.6491228070175439,0.6491228070175439,0.6666666666666666,0.6666666666666666,0.7017543859649122,0.7017543859649122,0.7192982456140351,0.7192982456140351,0.7719298245614035,0.7719298245614035,0.7894736842105263,0.7894736842105263,0.8070175438596491,0.8070175438596491,0.8245614035087719,0.8245614035087719,0.8421052631578947,0.8421052631578947,0.8771929824561403,0.8771929824561403,0.8947368421052632,0.8947368421052632,0.9473684210526315,0.9473684210526315,0.9824561403508771,0.9824561403508771,1.0],\"y\":[0.0,0.0,0.0,0.026785714285714284,0.026785714285714284,0.0625,0.0625,0.11607142857142858,0.11607142857142858,0.14285714285714285,0.14285714285714285,0.16964285714285715,0.16964285714285715,0.20535714285714285,0.20535714285714285,0.24107142857142858,0.24107142857142858,0.25,0.25,0.26785714285714285,0.26785714285714285,0.29464285714285715,0.29464285714285715,0.3125,0.3125,0.39285714285714285,0.39285714285714285,0.4107142857142857,0.4107142857142857,0.44642857142857145,0.44642857142857145,0.4732142857142857,0.4732142857142857,0.5,0.5,0.5089285714285714,0.5089285714285714,0.5178571428571429,0.5178571428571429,0.5267857142857143,0.5267857142857143,0.5357142857142857,0.5357142857142857,0.5446428571428571,0.5446428571428571,0.5625,0.5625,0.5714285714285714,0.5714285714285714,0.6071428571428571,0.6071428571428571,0.625,0.625,0.6339285714285714,0.6339285714285714,0.6696428571428571,0.6696428571428571,0.6964285714285714,0.6964285714285714,0.7142857142857143,0.7142857142857143,0.7767857142857143,0.7767857142857143,0.7946428571428571,0.7946428571428571,0.8035714285714286,0.8035714285714286,0.8214285714285714,0.8214285714285714,0.9107142857142857,0.9107142857142857,0.9464285714285714,0.9464285714285714,0.9732142857142857,0.9732142857142857,0.9821428571428571,0.9821428571428571,0.9910714285714286,0.9910714285714286,1.0,1.0],\"type\":\"scatter\"},{\"mode\":\"lines\",\"name\":\"(Random Forest AUC=0.67)\",\"x\":[0.0,0.0,0.0,0.0,0.0,0.0,0.017543859649122806,0.017543859649122806,0.03508771929824561,0.03508771929824561,0.03508771929824561,0.05263157894736842,0.07017543859649122,0.08771929824561403,0.08771929824561403,0.12280701754385964,0.14035087719298245,0.14035087719298245,0.15789473684210525,0.19298245614035087,0.19298245614035087,0.19298245614035087,0.24561403508771928,0.24561403508771928,0.2631578947368421,0.2982456140350877,0.3157894736842105,0.3684210526315789,0.3684210526315789,0.3684210526315789,0.38596491228070173,0.40350877192982454,0.42105263157894735,0.45614035087719296,0.49122807017543857,0.5087719298245614,0.5087719298245614,0.5263157894736842,0.543859649122807,0.5614035087719298,0.5964912280701754,0.6140350877192983,0.631578947368421,0.631578947368421,0.631578947368421,0.6491228070175439,0.6666666666666666,0.6842105263157895,0.7017543859649122,0.7543859649122807,0.7719298245614035,0.7894736842105263,0.8070175438596491,0.8070175438596491,0.8070175438596491,0.8421052631578947,0.8596491228070176,0.8771929824561403,0.9122807017543859,1.0],\"y\":[0.0,0.008928571428571428,0.03571428571428571,0.05357142857142857,0.08035714285714286,0.09821428571428571,0.13392857142857142,0.14285714285714285,0.16071428571428573,0.1875,0.19642857142857142,0.21428571428571427,0.24107142857142858,0.2857142857142857,0.30357142857142855,0.3125,0.3125,0.3392857142857143,0.3482142857142857,0.39285714285714285,0.41964285714285715,0.42857142857142855,0.44642857142857145,0.4642857142857143,0.49107142857142855,0.5089285714285714,0.5178571428571429,0.5357142857142857,0.5535714285714286,0.5892857142857143,0.6071428571428571,0.6339285714285714,0.6339285714285714,0.6696428571428571,0.6785714285714286,0.7053571428571429,0.7142857142857143,0.75,0.7678571428571429,0.7678571428571429,0.7946428571428571,0.7946428571428571,0.8035714285714286,0.8125,0.8392857142857143,0.8571428571428571,0.8571428571428571,0.875,0.9017857142857143,0.9017857142857143,0.9196428571428571,0.9285714285714286,0.9464285714285714,0.9732142857142857,0.9821428571428571,0.9821428571428571,0.9910714285714286,0.9910714285714286,1.0,1.0],\"type\":\"scatter\"},{\"mode\":\"lines\",\"name\":\"(Neural Network AUC=0.52)\",\"x\":[0.0,0.017543859649122806,0.017543859649122806,0.10526315789473684,0.10526315789473684,0.12280701754385964,0.12280701754385964,0.15789473684210525,0.15789473684210525,0.19298245614035087,0.19298245614035087,0.22807017543859648,0.22807017543859648,0.2631578947368421,0.2631578947368421,0.3157894736842105,0.3157894736842105,0.3333333333333333,0.3333333333333333,0.3508771929824561,0.3508771929824561,0.3684210526315789,0.3684210526315789,0.40350877192982454,0.40350877192982454,0.42105263157894735,0.42105263157894735,0.43859649122807015,0.43859649122807015,0.45614035087719296,0.45614035087719296,0.47368421052631576,0.47368421052631576,0.5087719298245614,0.5087719298245614,0.5263157894736842,0.5263157894736842,0.543859649122807,0.543859649122807,0.5614035087719298,0.5614035087719298,0.5789473684210527,0.5789473684210527,0.5964912280701754,0.5964912280701754,0.6140350877192983,0.6140350877192983,0.631578947368421,0.631578947368421,0.6491228070175439,0.6491228070175439,0.6666666666666666,0.6666666666666666,0.7368421052631579,0.7368421052631579,0.7543859649122807,0.7543859649122807,0.7719298245614035,0.7719298245614035,0.8771929824561403,0.8771929824561403,0.8947368421052632,0.8947368421052632,0.9122807017543859,0.9122807017543859,0.9298245614035088,0.9298245614035088,0.9473684210526315,0.9473684210526315,1.0],\"y\":[0.0,0.0,0.008928571428571428,0.008928571428571428,0.08928571428571429,0.08928571428571429,0.10714285714285714,0.10714285714285714,0.14285714285714285,0.14285714285714285,0.16071428571428573,0.16071428571428573,0.17857142857142858,0.17857142857142858,0.20535714285714285,0.20535714285714285,0.23214285714285715,0.23214285714285715,0.25,0.25,0.26785714285714285,0.26785714285714285,0.2857142857142857,0.2857142857142857,0.3125,0.3125,0.3482142857142857,0.3482142857142857,0.45535714285714285,0.45535714285714285,0.5089285714285714,0.5089285714285714,0.5357142857142857,0.5357142857142857,0.5714285714285714,0.5714285714285714,0.5803571428571429,0.5803571428571429,0.5982142857142857,0.5982142857142857,0.6071428571428571,0.6071428571428571,0.625,0.625,0.7321428571428571,0.7321428571428571,0.7946428571428571,0.7946428571428571,0.8392857142857143,0.8392857142857143,0.8482142857142857,0.8482142857142857,0.8571428571428571,0.8571428571428571,0.8839285714285714,0.8839285714285714,0.9107142857142857,0.9107142857142857,0.9196428571428571,0.9196428571428571,0.9375,0.9375,0.9464285714285714,0.9464285714285714,0.9732142857142857,0.9732142857142857,0.9910714285714286,0.9910714285714286,1.0,1.0],\"type\":\"scatter\"}],                        {\"template\":{\"data\":{\"histogram2dcontour\":[{\"type\":\"histogram2dcontour\",\"colorbar\":{\"outlinewidth\":0,\"ticks\":\"\"},\"colorscale\":[[0.0,\"#0d0887\"],[0.1111111111111111,\"#46039f\"],[0.2222222222222222,\"#7201a8\"],[0.3333333333333333,\"#9c179e\"],[0.4444444444444444,\"#bd3786\"],[0.5555555555555556,\"#d8576b\"],[0.6666666666666666,\"#ed7953\"],[0.7777777777777778,\"#fb9f3a\"],[0.8888888888888888,\"#fdca26\"],[1.0,\"#f0f921\"]]}],\"choropleth\":[{\"type\":\"choropleth\",\"colorbar\":{\"outlinewidth\":0,\"ticks\":\"\"}}],\"histogram2d\":[{\"type\":\"histogram2d\",\"colorbar\":{\"outlinewidth\":0,\"ticks\":\"\"},\"colorscale\":[[0.0,\"#0d0887\"],[0.1111111111111111,\"#46039f\"],[0.2222222222222222,\"#7201a8\"],[0.3333333333333333,\"#9c179e\"],[0.4444444444444444,\"#bd3786\"],[0.5555555555555556,\"#d8576b\"],[0.6666666666666666,\"#ed7953\"],[0.7777777777777778,\"#fb9f3a\"],[0.8888888888888888,\"#fdca26\"],[1.0,\"#f0f921\"]]}],\"heatmap\":[{\"type\":\"heatmap\",\"colorbar\":{\"outlinewidth\":0,\"ticks\":\"\"},\"colorscale\":[[0.0,\"#0d0887\"],[0.1111111111111111,\"#46039f\"],[0.2222222222222222,\"#7201a8\"],[0.3333333333333333,\"#9c179e\"],[0.4444444444444444,\"#bd3786\"],[0.5555555555555556,\"#d8576b\"],[0.6666666666666666,\"#ed7953\"],[0.7777777777777778,\"#fb9f3a\"],[0.8888888888888888,\"#fdca26\"],[1.0,\"#f0f921\"]]}],\"heatmapgl\":[{\"type\":\"heatmapgl\",\"colorbar\":{\"outlinewidth\":0,\"ticks\":\"\"},\"colorscale\":[[0.0,\"#0d0887\"],[0.1111111111111111,\"#46039f\"],[0.2222222222222222,\"#7201a8\"],[0.3333333333333333,\"#9c179e\"],[0.4444444444444444,\"#bd3786\"],[0.5555555555555556,\"#d8576b\"],[0.6666666666666666,\"#ed7953\"],[0.7777777777777778,\"#fb9f3a\"],[0.8888888888888888,\"#fdca26\"],[1.0,\"#f0f921\"]]}],\"contourcarpet\":[{\"type\":\"contourcarpet\",\"colorbar\":{\"outlinewidth\":0,\"ticks\":\"\"}}],\"contour\":[{\"type\":\"contour\",\"colorbar\":{\"outlinewidth\":0,\"ticks\":\"\"},\"colorscale\":[[0.0,\"#0d0887\"],[0.1111111111111111,\"#46039f\"],[0.2222222222222222,\"#7201a8\"],[0.3333333333333333,\"#9c179e\"],[0.4444444444444444,\"#bd3786\"],[0.5555555555555556,\"#d8576b\"],[0.6666666666666666,\"#ed7953\"],[0.7777777777777778,\"#fb9f3a\"],[0.8888888888888888,\"#fdca26\"],[1.0,\"#f0f921\"]]}],\"surface\":[{\"type\":\"surface\",\"colorbar\":{\"outlinewidth\":0,\"ticks\":\"\"},\"colorscale\":[[0.0,\"#0d0887\"],[0.1111111111111111,\"#46039f\"],[0.2222222222222222,\"#7201a8\"],[0.3333333333333333,\"#9c179e\"],[0.4444444444444444,\"#bd3786\"],[0.5555555555555556,\"#d8576b\"],[0.6666666666666666,\"#ed7953\"],[0.7777777777777778,\"#fb9f3a\"],[0.8888888888888888,\"#fdca26\"],[1.0,\"#f0f921\"]]}],\"mesh3d\":[{\"type\":\"mesh3d\",\"colorbar\":{\"outlinewidth\":0,\"ticks\":\"\"}}],\"scatter\":[{\"fillpattern\":{\"fillmode\":\"overlay\",\"size\":10,\"solidity\":0.2},\"type\":\"scatter\"}],\"parcoords\":[{\"type\":\"parcoords\",\"line\":{\"colorbar\":{\"outlinewidth\":0,\"ticks\":\"\"}}}],\"scatterpolargl\":[{\"type\":\"scatterpolargl\",\"marker\":{\"colorbar\":{\"outlinewidth\":0,\"ticks\":\"\"}}}],\"bar\":[{\"error_x\":{\"color\":\"#2a3f5f\"},\"error_y\":{\"color\":\"#2a3f5f\"},\"marker\":{\"line\":{\"color\":\"#E5ECF6\",\"width\":0.5},\"pattern\":{\"fillmode\":\"overlay\",\"size\":10,\"solidity\":0.2}},\"type\":\"bar\"}],\"scattergeo\":[{\"type\":\"scattergeo\",\"marker\":{\"colorbar\":{\"outlinewidth\":0,\"ticks\":\"\"}}}],\"scatterpolar\":[{\"type\":\"scatterpolar\",\"marker\":{\"colorbar\":{\"outlinewidth\":0,\"ticks\":\"\"}}}],\"histogram\":[{\"marker\":{\"pattern\":{\"fillmode\":\"overlay\",\"size\":10,\"solidity\":0.2}},\"type\":\"histogram\"}],\"scattergl\":[{\"type\":\"scattergl\",\"marker\":{\"colorbar\":{\"outlinewidth\":0,\"ticks\":\"\"}}}],\"scatter3d\":[{\"type\":\"scatter3d\",\"line\":{\"colorbar\":{\"outlinewidth\":0,\"ticks\":\"\"}},\"marker\":{\"colorbar\":{\"outlinewidth\":0,\"ticks\":\"\"}}}],\"scattermapbox\":[{\"type\":\"scattermapbox\",\"marker\":{\"colorbar\":{\"outlinewidth\":0,\"ticks\":\"\"}}}],\"scatterternary\":[{\"type\":\"scatterternary\",\"marker\":{\"colorbar\":{\"outlinewidth\":0,\"ticks\":\"\"}}}],\"scattercarpet\":[{\"type\":\"scattercarpet\",\"marker\":{\"colorbar\":{\"outlinewidth\":0,\"ticks\":\"\"}}}],\"carpet\":[{\"aaxis\":{\"endlinecolor\":\"#2a3f5f\",\"gridcolor\":\"white\",\"linecolor\":\"white\",\"minorgridcolor\":\"white\",\"startlinecolor\":\"#2a3f5f\"},\"baxis\":{\"endlinecolor\":\"#2a3f5f\",\"gridcolor\":\"white\",\"linecolor\":\"white\",\"minorgridcolor\":\"white\",\"startlinecolor\":\"#2a3f5f\"},\"type\":\"carpet\"}],\"table\":[{\"cells\":{\"fill\":{\"color\":\"#EBF0F8\"},\"line\":{\"color\":\"white\"}},\"header\":{\"fill\":{\"color\":\"#C8D4E3\"},\"line\":{\"color\":\"white\"}},\"type\":\"table\"}],\"barpolar\":[{\"marker\":{\"line\":{\"color\":\"#E5ECF6\",\"width\":0.5},\"pattern\":{\"fillmode\":\"overlay\",\"size\":10,\"solidity\":0.2}},\"type\":\"barpolar\"}],\"pie\":[{\"automargin\":true,\"type\":\"pie\"}]},\"layout\":{\"autotypenumbers\":\"strict\",\"colorway\":[\"#636efa\",\"#EF553B\",\"#00cc96\",\"#ab63fa\",\"#FFA15A\",\"#19d3f3\",\"#FF6692\",\"#B6E880\",\"#FF97FF\",\"#FECB52\"],\"font\":{\"color\":\"#2a3f5f\"},\"hovermode\":\"closest\",\"hoverlabel\":{\"align\":\"left\"},\"paper_bgcolor\":\"white\",\"plot_bgcolor\":\"#E5ECF6\",\"polar\":{\"bgcolor\":\"#E5ECF6\",\"angularaxis\":{\"gridcolor\":\"white\",\"linecolor\":\"white\",\"ticks\":\"\"},\"radialaxis\":{\"gridcolor\":\"white\",\"linecolor\":\"white\",\"ticks\":\"\"}},\"ternary\":{\"bgcolor\":\"#E5ECF6\",\"aaxis\":{\"gridcolor\":\"white\",\"linecolor\":\"white\",\"ticks\":\"\"},\"baxis\":{\"gridcolor\":\"white\",\"linecolor\":\"white\",\"ticks\":\"\"},\"caxis\":{\"gridcolor\":\"white\",\"linecolor\":\"white\",\"ticks\":\"\"}},\"coloraxis\":{\"colorbar\":{\"outlinewidth\":0,\"ticks\":\"\"}},\"colorscale\":{\"sequential\":[[0.0,\"#0d0887\"],[0.1111111111111111,\"#46039f\"],[0.2222222222222222,\"#7201a8\"],[0.3333333333333333,\"#9c179e\"],[0.4444444444444444,\"#bd3786\"],[0.5555555555555556,\"#d8576b\"],[0.6666666666666666,\"#ed7953\"],[0.7777777777777778,\"#fb9f3a\"],[0.8888888888888888,\"#fdca26\"],[1.0,\"#f0f921\"]],\"sequentialminus\":[[0.0,\"#0d0887\"],[0.1111111111111111,\"#46039f\"],[0.2222222222222222,\"#7201a8\"],[0.3333333333333333,\"#9c179e\"],[0.4444444444444444,\"#bd3786\"],[0.5555555555555556,\"#d8576b\"],[0.6666666666666666,\"#ed7953\"],[0.7777777777777778,\"#fb9f3a\"],[0.8888888888888888,\"#fdca26\"],[1.0,\"#f0f921\"]],\"diverging\":[[0,\"#8e0152\"],[0.1,\"#c51b7d\"],[0.2,\"#de77ae\"],[0.3,\"#f1b6da\"],[0.4,\"#fde0ef\"],[0.5,\"#f7f7f7\"],[0.6,\"#e6f5d0\"],[0.7,\"#b8e186\"],[0.8,\"#7fbc41\"],[0.9,\"#4d9221\"],[1,\"#276419\"]]},\"xaxis\":{\"gridcolor\":\"white\",\"linecolor\":\"white\",\"ticks\":\"\",\"title\":{\"standoff\":15},\"zerolinecolor\":\"white\",\"automargin\":true,\"zerolinewidth\":2},\"yaxis\":{\"gridcolor\":\"white\",\"linecolor\":\"white\",\"ticks\":\"\",\"title\":{\"standoff\":15},\"zerolinecolor\":\"white\",\"automargin\":true,\"zerolinewidth\":2},\"scene\":{\"xaxis\":{\"backgroundcolor\":\"#E5ECF6\",\"gridcolor\":\"white\",\"linecolor\":\"white\",\"showbackground\":true,\"ticks\":\"\",\"zerolinecolor\":\"white\",\"gridwidth\":2},\"yaxis\":{\"backgroundcolor\":\"#E5ECF6\",\"gridcolor\":\"white\",\"linecolor\":\"white\",\"showbackground\":true,\"ticks\":\"\",\"zerolinecolor\":\"white\",\"gridwidth\":2},\"zaxis\":{\"backgroundcolor\":\"#E5ECF6\",\"gridcolor\":\"white\",\"linecolor\":\"white\",\"showbackground\":true,\"ticks\":\"\",\"zerolinecolor\":\"white\",\"gridwidth\":2}},\"shapedefaults\":{\"line\":{\"color\":\"#2a3f5f\"}},\"annotationdefaults\":{\"arrowcolor\":\"#2a3f5f\",\"arrowhead\":0,\"arrowwidth\":1},\"geo\":{\"bgcolor\":\"white\",\"landcolor\":\"#E5ECF6\",\"subunitcolor\":\"white\",\"showland\":true,\"showlakes\":true,\"lakecolor\":\"white\"},\"title\":{\"x\":0.05},\"mapbox\":{\"style\":\"light\"}}},\"shapes\":[{\"line\":{\"dash\":\"dash\"},\"type\":\"line\",\"x0\":0,\"x1\":1,\"y0\":0,\"y1\":1}],\"title\":{\"text\":\"ROC Curves For Selected Models\",\"x\":0.5},\"yaxis\":{\"title\":{\"text\":\"True Positive Rate\"},\"scaleanchor\":\"x\",\"scaleratio\":1},\"xaxis\":{\"title\":{\"text\":\"False Positive Rate\"},\"constrain\":\"domain\"},\"legend\":{\"yanchor\":\"top\",\"y\":0.99,\"xanchor\":\"left\",\"x\":0.2},\"width\":1000,\"height\":750},                        {\"responsive\": true}                    ).then(function(){\n",
              "                            \n",
              "var gd = document.getElementById('13306a3e-c274-4817-9bf8-8af152e9c85c');\n",
              "var x = new MutationObserver(function (mutations, observer) {{\n",
              "        var display = window.getComputedStyle(gd).display;\n",
              "        if (!display || display === 'none') {{\n",
              "            console.log([gd, 'removed!']);\n",
              "            Plotly.purge(gd);\n",
              "            observer.disconnect();\n",
              "        }}\n",
              "}});\n",
              "\n",
              "// Listen for the removal of the full notebook cells\n",
              "var notebookContainer = gd.closest('#notebook-container');\n",
              "if (notebookContainer) {{\n",
              "    x.observe(notebookContainer, {childList: true});\n",
              "}}\n",
              "\n",
              "// Listen for the clearing of the current output cell\n",
              "var outputEl = gd.closest('.output');\n",
              "if (outputEl) {{\n",
              "    x.observe(outputEl, {childList: true});\n",
              "}}\n",
              "\n",
              "                        })                };                            </script>        </div>\n",
              "</body>\n",
              "</html>"
            ]
          },
          "metadata": {}
        }
      ]
    },
    {
      "cell_type": "code",
      "source": [
        "thresholds = [0.05,0.10,0.15,0.20,0.25,0.30,0.35,0.40,0.45,0.50,0.55,0.60,0.65,0.70,0.75,0.80,.85,0.90,0.95]\n",
        "\n",
        "Log_ThresholdDF = []\n",
        "Ran_ThresholdDF = []\n",
        "Neural_ThresholdDF = []\n",
        "\n",
        "for name, model in PredictionModels.items():\n",
        "\n",
        "  if name == 'Logistic Regression':\n",
        "    model.fit(X = train_x, y = train_y)\n",
        "    for i in thresholds:\n",
        "\n",
        "      preds = np.where(model.predict_proba(validation_x)[:,1] > i, 1, 0)\n",
        "      Log_ThresholdDF.append(\n",
        "        {\n",
        "        'Accuracy': accuracy_score(validation_y, preds),\n",
        "        'recall': recall_score(validation_y, preds),\n",
        "        'precision': precision_score(validation_y, preds),\n",
        "        'f1 Score': f1_score(validation_y, preds),\n",
        "        'Threshold': i\n",
        "        }\n",
        "      )\n",
        "    Log_ThresholdDF = pd.DataFrame(Log_ThresholdDF)\n",
        "    print(name)\n",
        "    print(Log_ThresholdDF)\n",
        "\n",
        "  if name == 'Random Forest':\n",
        "    model.fit(X = train_x, y = train_y)\n",
        "    for i in thresholds:\n",
        "\n",
        "      preds = np.where(model.predict_proba(validation_x)[:,1] > i, 1, 0)\n",
        "      Ran_ThresholdDF.append(\n",
        "        {\n",
        "        'Accuracy': accuracy_score(validation_y, preds),\n",
        "        'recall': recall_score(validation_y, preds),\n",
        "        'precision': precision_score(validation_y, preds),\n",
        "        'f1 Score': f1_score(validation_y, preds),\n",
        "        'Threshold': i\n",
        "        }\n",
        "      )\n",
        "    Ran_ThresholdDF = pd.DataFrame(Ran_ThresholdDF)\n",
        "    print(name)\n",
        "    print(Ran_ThresholdDF)\n",
        "\n",
        "  if name == 'Neural Network':\n",
        "    model.fit(X = train_x, y = train_y.values.reshape(1,-1))\n",
        "    for i in thresholds:\n",
        "\n",
        "      preds, proba = model.predict(validation_x, return_proba = True)\n",
        "      preds = np.where(proba > i, 1, 0)\n",
        "      Neural_ThresholdDF.append(\n",
        "          {\n",
        "          'Accuracy': accuracy_score(validation_y, preds),\n",
        "          'recall': recall_score(validation_y, preds),\n",
        "          'precision': precision_score(validation_y, preds),\n",
        "          'f1 Score': f1_score(validation_y, preds),\n",
        "          'Threshold': i\n",
        "          }\n",
        "        )\n",
        "    Neural_ThresholdDF = pd.DataFrame(Neural_ThresholdDF)\n",
        "    print(name)\n",
        "    print(Neural_ThresholdDF)\n",
        "\n"
      ],
      "metadata": {
        "id": "NBTGiOQo-uPW"
      },
      "id": "NBTGiOQo-uPW",
      "execution_count": null,
      "outputs": []
    },
    {
      "cell_type": "code",
      "source": [
        "fig1 = make_subplots(rows=1, cols=3, subplot_titles=('Logistic Regression',  'Random Forest', 'Neural Network'))\n",
        "\n",
        "fig1.add_traces(go.Scatter(x=Log_ThresholdDF['Threshold'], y=Log_ThresholdDF['Accuracy'], name=f\"Accuracy\", legendgroup='group1'),rows=1, cols=1)\n",
        "fig1.add_traces(go.Scatter(x=Log_ThresholdDF['Threshold'], y=Log_ThresholdDF['precision'], name=f\"Precision\",legendgroup='group2'), rows=1, cols=1)\n",
        "fig1.add_traces(go.Scatter(x=Log_ThresholdDF['Threshold'], y=Log_ThresholdDF['recall'], name=f\"Recall\",legendgroup='group3'), rows=1, cols=1)\n",
        "fig1.add_traces(go.Scatter(x=Log_ThresholdDF['Threshold'], y=Log_ThresholdDF['f1 Score'], name=f\"Precision\",legendgroup='group4'), rows=1, cols=1)\n",
        "\n",
        "fig1.add_traces(go.Scatter(x=Ran_ThresholdDF['Threshold'], y=Ran_ThresholdDF['Accuracy'], name=f\"Accuracy\",legendgroup='group1',showlegend=False), rows=1, cols=2)\n",
        "fig1.add_traces(go.Scatter(x=Ran_ThresholdDF['Threshold'], y=Ran_ThresholdDF['precision'], name=f\"Precision\",legendgroup='group2',showlegend=False), rows=1, cols=2)\n",
        "fig1.add_traces(go.Scatter(x=Ran_ThresholdDF['Threshold'], y=Ran_ThresholdDF['recall'], name=f\"Recall\",legendgroup='group3',showlegend=False), rows=1, cols=2)\n",
        "fig1.add_traces(go.Scatter(x=Ran_ThresholdDF['Threshold'], y=Ran_ThresholdDF['f1 Score'], name=f\"Precision\",legendgroup='group4',showlegend=False), rows=1, cols=2)\n",
        "\n",
        "fig1.add_traces(go.Scatter(x=Neural_ThresholdDF['Threshold'], y=Neural_ThresholdDF['Accuracy'], name=f\"Accuracy\",legendgroup='group1',showlegend=False), rows=1, cols=3)\n",
        "fig1.add_traces(go.Scatter(x=Neural_ThresholdDF['Threshold'], y=Neural_ThresholdDF['precision'], name=f\"Precision\",legendgroup='group2',showlegend=False), rows=1, cols=3)\n",
        "fig1.add_traces(go.Scatter(x=Neural_ThresholdDF['Threshold'], y=Neural_ThresholdDF['recall'], name=f\"Recall\",legendgroup='group3',showlegend=False), rows=1, cols=3)\n",
        "fig1.add_traces(go.Scatter(x=Neural_ThresholdDF['Threshold'], y=Neural_ThresholdDF['f1 Score'], name=f\"Precision\",legendgroup='group4',showlegend=False), rows=1, cols=3)\n",
        "fig1.update_traces(texttemplate='%{y:.3f}')  # Drop Decimals for display\n",
        "fig1.update_layout(yaxis_title = 'Accuracy') # Set y axis title, otherwise the y axis will have no title before using update buttons\n",
        "fig1.update_layout(title_text = 'Metric Plots for Decision Thresholds from 0.05 to 0.95, at increments of 0.05', title_x = 0.5)\n",
        "\n",
        "fig1.show()"
      ],
      "metadata": {
        "colab": {
          "base_uri": "https://localhost:8080/",
          "height": 542
        },
        "id": "mVNbeROEZJlU",
        "outputId": "3f412cb8-6bba-4478-a0a3-aa5189c91436"
      },
      "id": "mVNbeROEZJlU",
      "execution_count": null,
      "outputs": [
        {
          "output_type": "display_data",
          "data": {
            "text/html": [
              "<html>\n",
              "<head><meta charset=\"utf-8\" /></head>\n",
              "<body>\n",
              "    <div>            <script src=\"https://cdnjs.cloudflare.com/ajax/libs/mathjax/2.7.5/MathJax.js?config=TeX-AMS-MML_SVG\"></script><script type=\"text/javascript\">if (window.MathJax && window.MathJax.Hub && window.MathJax.Hub.Config) {window.MathJax.Hub.Config({SVG: {font: \"STIX-Web\"}});}</script>                <script type=\"text/javascript\">window.PlotlyConfig = {MathJaxConfig: 'local'};</script>\n",
              "        <script charset=\"utf-8\" src=\"https://cdn.plot.ly/plotly-2.24.1.min.js\"></script>                <div id=\"13008053-f5ae-4583-8799-4da865ca60ea\" class=\"plotly-graph-div\" style=\"height:525px; width:100%;\"></div>            <script type=\"text/javascript\">                                    window.PLOTLYENV=window.PLOTLYENV || {};                                    if (document.getElementById(\"13008053-f5ae-4583-8799-4da865ca60ea\")) {                    Plotly.newPlot(                        \"13008053-f5ae-4583-8799-4da865ca60ea\",                        [{\"legendgroup\":\"group1\",\"name\":\"Accuracy\",\"x\":[0.05,0.1,0.15,0.2,0.25,0.3,0.35,0.4,0.45,0.5,0.55,0.6,0.65,0.7,0.75,0.8,0.85,0.9,0.95],\"y\":[0.6627218934911243,0.6627218934911243,0.6627218934911243,0.6627218934911243,0.6627218934911243,0.6627218934911243,0.6627218934911243,0.6627218934911243,0.6627218934911243,0.6627218934911243,0.6627218934911243,0.6627218934911243,0.33727810650887574,0.33727810650887574,0.33727810650887574,0.33727810650887574,0.33727810650887574,0.33727810650887574,0.33727810650887574],\"type\":\"scatter\",\"xaxis\":\"x\",\"yaxis\":\"y\",\"texttemplate\":\"%{y:.3f}\"},{\"legendgroup\":\"group2\",\"name\":\"Precision\",\"x\":[0.05,0.1,0.15,0.2,0.25,0.3,0.35,0.4,0.45,0.5,0.55,0.6,0.65,0.7,0.75,0.8,0.85,0.9,0.95],\"y\":[0.6627218934911243,0.6627218934911243,0.6627218934911243,0.6627218934911243,0.6627218934911243,0.6627218934911243,0.6627218934911243,0.6627218934911243,0.6627218934911243,0.6627218934911243,0.6627218934911243,0.6627218934911243,0.0,0.0,0.0,0.0,0.0,0.0,0.0],\"type\":\"scatter\",\"xaxis\":\"x\",\"yaxis\":\"y\",\"texttemplate\":\"%{y:.3f}\"},{\"legendgroup\":\"group3\",\"name\":\"Recall\",\"x\":[0.05,0.1,0.15,0.2,0.25,0.3,0.35,0.4,0.45,0.5,0.55,0.6,0.65,0.7,0.75,0.8,0.85,0.9,0.95],\"y\":[1.0,1.0,1.0,1.0,1.0,1.0,1.0,1.0,1.0,1.0,1.0,1.0,0.0,0.0,0.0,0.0,0.0,0.0,0.0],\"type\":\"scatter\",\"xaxis\":\"x\",\"yaxis\":\"y\",\"texttemplate\":\"%{y:.3f}\"},{\"legendgroup\":\"group4\",\"name\":\"Precision\",\"x\":[0.05,0.1,0.15,0.2,0.25,0.3,0.35,0.4,0.45,0.5,0.55,0.6,0.65,0.7,0.75,0.8,0.85,0.9,0.95],\"y\":[0.797153024911032,0.797153024911032,0.797153024911032,0.797153024911032,0.797153024911032,0.797153024911032,0.797153024911032,0.797153024911032,0.797153024911032,0.797153024911032,0.797153024911032,0.797153024911032,0.0,0.0,0.0,0.0,0.0,0.0,0.0],\"type\":\"scatter\",\"xaxis\":\"x\",\"yaxis\":\"y\",\"texttemplate\":\"%{y:.3f}\"},{\"legendgroup\":\"group1\",\"name\":\"Accuracy\",\"showlegend\":false,\"x\":[0.05,0.1,0.15,0.2,0.25,0.3,0.35,0.4,0.45,0.5,0.55,0.6,0.65,0.7,0.75,0.8,0.85,0.9,0.95],\"y\":[0.6627218934911243,0.6627218934911243,0.6627218934911243,0.6686390532544378,0.6923076923076923,0.6982248520710059,0.6982248520710059,0.6982248520710059,0.6804733727810651,0.6686390532544378,0.6331360946745562,0.6094674556213018,0.6035502958579881,0.5798816568047337,0.5266272189349113,0.4911242603550296,0.4319526627218935,0.38461538461538464,0.3431952662721893],\"type\":\"scatter\",\"xaxis\":\"x2\",\"yaxis\":\"y2\",\"texttemplate\":\"%{y:.3f}\"},{\"legendgroup\":\"group2\",\"name\":\"Precision\",\"showlegend\":false,\"x\":[0.05,0.1,0.15,0.2,0.25,0.3,0.35,0.4,0.45,0.5,0.55,0.6,0.65,0.7,0.75,0.8,0.85,0.9,0.95],\"y\":[0.6627218934911243,0.6627218934911243,0.6627218934911243,0.6686746987951807,0.6875,0.6942675159235668,0.6967741935483871,0.7132867132867133,0.7196969696969697,0.7295081967213115,0.7272727272727273,0.7446808510638298,0.7848101265822784,0.8253968253968254,0.8478260869565217,0.9333333333333333,0.9444444444444444,0.9,1.0],\"type\":\"scatter\",\"xaxis\":\"x2\",\"yaxis\":\"y2\",\"texttemplate\":\"%{y:.3f}\"},{\"legendgroup\":\"group3\",\"name\":\"Recall\",\"showlegend\":false,\"x\":[0.05,0.1,0.15,0.2,0.25,0.3,0.35,0.4,0.45,0.5,0.55,0.6,0.65,0.7,0.75,0.8,0.85,0.9,0.95],\"y\":[1.0,1.0,1.0,0.9910714285714286,0.9821428571428571,0.9732142857142857,0.9642857142857143,0.9107142857142857,0.8482142857142857,0.7946428571428571,0.7142857142857143,0.625,0.5535714285714286,0.4642857142857143,0.3482142857142857,0.25,0.15178571428571427,0.08035714285714286,0.008928571428571428],\"type\":\"scatter\",\"xaxis\":\"x2\",\"yaxis\":\"y2\",\"texttemplate\":\"%{y:.3f}\"},{\"legendgroup\":\"group4\",\"name\":\"Precision\",\"showlegend\":false,\"x\":[0.05,0.1,0.15,0.2,0.25,0.3,0.35,0.4,0.45,0.5,0.55,0.6,0.65,0.7,0.75,0.8,0.85,0.9,0.95],\"y\":[0.797153024911032,0.797153024911032,0.797153024911032,0.7985611510791366,0.8088235294117647,0.8104089219330854,0.8089887640449438,0.8,0.778688524590164,0.7606837606837608,0.7207207207207208,0.6796116504854368,0.6492146596858639,0.5942857142857144,0.49367088607594933,0.39436619718309857,0.26153846153846155,0.14754098360655737,0.017699115044247787],\"type\":\"scatter\",\"xaxis\":\"x2\",\"yaxis\":\"y2\",\"texttemplate\":\"%{y:.3f}\"},{\"legendgroup\":\"group1\",\"name\":\"Accuracy\",\"showlegend\":false,\"x\":[0.05,0.1,0.15,0.2,0.25,0.3,0.35,0.4,0.45,0.5,0.55,0.6,0.65,0.7,0.75,0.8,0.85,0.9,0.95],\"y\":[0.6627218934911243,0.6627218934911243,0.6627218934911243,0.6627218934911243,0.6627218934911243,0.6627218934911243,0.6627218934911243,0.6627218934911243,0.6627218934911243,0.6627218934911243,0.6804733727810651,0.6745562130177515,0.3254437869822485,0.33727810650887574,0.33727810650887574,0.33727810650887574,0.33727810650887574,0.33727810650887574,0.33727810650887574],\"type\":\"scatter\",\"xaxis\":\"x3\",\"yaxis\":\"y3\",\"texttemplate\":\"%{y:.3f}\"},{\"legendgroup\":\"group2\",\"name\":\"Precision\",\"showlegend\":false,\"x\":[0.05,0.1,0.15,0.2,0.25,0.3,0.35,0.4,0.45,0.5,0.55,0.6,0.65,0.7,0.75,0.8,0.85,0.9,0.95],\"y\":[0.6627218934911243,0.6627218934911243,0.6627218934911243,0.6627218934911243,0.6627218934911243,0.6627218934911243,0.6627218934911243,0.6627218934911243,0.6627218934911243,0.6627218934911243,0.6746987951807228,0.696551724137931,0.0,0.0,0.0,0.0,0.0,0.0,0.0],\"type\":\"scatter\",\"xaxis\":\"x3\",\"yaxis\":\"y3\",\"texttemplate\":\"%{y:.3f}\"},{\"legendgroup\":\"group3\",\"name\":\"Recall\",\"showlegend\":false,\"x\":[0.05,0.1,0.15,0.2,0.25,0.3,0.35,0.4,0.45,0.5,0.55,0.6,0.65,0.7,0.75,0.8,0.85,0.9,0.95],\"y\":[1.0,1.0,1.0,1.0,1.0,1.0,1.0,1.0,1.0,1.0,1.0,0.9017857142857143,0.0,0.0,0.0,0.0,0.0,0.0,0.0],\"type\":\"scatter\",\"xaxis\":\"x3\",\"yaxis\":\"y3\",\"texttemplate\":\"%{y:.3f}\"},{\"legendgroup\":\"group4\",\"name\":\"Precision\",\"showlegend\":false,\"x\":[0.05,0.1,0.15,0.2,0.25,0.3,0.35,0.4,0.45,0.5,0.55,0.6,0.65,0.7,0.75,0.8,0.85,0.9,0.95],\"y\":[0.797153024911032,0.797153024911032,0.797153024911032,0.797153024911032,0.797153024911032,0.797153024911032,0.797153024911032,0.797153024911032,0.797153024911032,0.797153024911032,0.8057553956834532,0.7859922178988327,0.0,0.0,0.0,0.0,0.0,0.0,0.0],\"type\":\"scatter\",\"xaxis\":\"x3\",\"yaxis\":\"y3\",\"texttemplate\":\"%{y:.3f}\"}],                        {\"template\":{\"data\":{\"histogram2dcontour\":[{\"type\":\"histogram2dcontour\",\"colorbar\":{\"outlinewidth\":0,\"ticks\":\"\"},\"colorscale\":[[0.0,\"#0d0887\"],[0.1111111111111111,\"#46039f\"],[0.2222222222222222,\"#7201a8\"],[0.3333333333333333,\"#9c179e\"],[0.4444444444444444,\"#bd3786\"],[0.5555555555555556,\"#d8576b\"],[0.6666666666666666,\"#ed7953\"],[0.7777777777777778,\"#fb9f3a\"],[0.8888888888888888,\"#fdca26\"],[1.0,\"#f0f921\"]]}],\"choropleth\":[{\"type\":\"choropleth\",\"colorbar\":{\"outlinewidth\":0,\"ticks\":\"\"}}],\"histogram2d\":[{\"type\":\"histogram2d\",\"colorbar\":{\"outlinewidth\":0,\"ticks\":\"\"},\"colorscale\":[[0.0,\"#0d0887\"],[0.1111111111111111,\"#46039f\"],[0.2222222222222222,\"#7201a8\"],[0.3333333333333333,\"#9c179e\"],[0.4444444444444444,\"#bd3786\"],[0.5555555555555556,\"#d8576b\"],[0.6666666666666666,\"#ed7953\"],[0.7777777777777778,\"#fb9f3a\"],[0.8888888888888888,\"#fdca26\"],[1.0,\"#f0f921\"]]}],\"heatmap\":[{\"type\":\"heatmap\",\"colorbar\":{\"outlinewidth\":0,\"ticks\":\"\"},\"colorscale\":[[0.0,\"#0d0887\"],[0.1111111111111111,\"#46039f\"],[0.2222222222222222,\"#7201a8\"],[0.3333333333333333,\"#9c179e\"],[0.4444444444444444,\"#bd3786\"],[0.5555555555555556,\"#d8576b\"],[0.6666666666666666,\"#ed7953\"],[0.7777777777777778,\"#fb9f3a\"],[0.8888888888888888,\"#fdca26\"],[1.0,\"#f0f921\"]]}],\"heatmapgl\":[{\"type\":\"heatmapgl\",\"colorbar\":{\"outlinewidth\":0,\"ticks\":\"\"},\"colorscale\":[[0.0,\"#0d0887\"],[0.1111111111111111,\"#46039f\"],[0.2222222222222222,\"#7201a8\"],[0.3333333333333333,\"#9c179e\"],[0.4444444444444444,\"#bd3786\"],[0.5555555555555556,\"#d8576b\"],[0.6666666666666666,\"#ed7953\"],[0.7777777777777778,\"#fb9f3a\"],[0.8888888888888888,\"#fdca26\"],[1.0,\"#f0f921\"]]}],\"contourcarpet\":[{\"type\":\"contourcarpet\",\"colorbar\":{\"outlinewidth\":0,\"ticks\":\"\"}}],\"contour\":[{\"type\":\"contour\",\"colorbar\":{\"outlinewidth\":0,\"ticks\":\"\"},\"colorscale\":[[0.0,\"#0d0887\"],[0.1111111111111111,\"#46039f\"],[0.2222222222222222,\"#7201a8\"],[0.3333333333333333,\"#9c179e\"],[0.4444444444444444,\"#bd3786\"],[0.5555555555555556,\"#d8576b\"],[0.6666666666666666,\"#ed7953\"],[0.7777777777777778,\"#fb9f3a\"],[0.8888888888888888,\"#fdca26\"],[1.0,\"#f0f921\"]]}],\"surface\":[{\"type\":\"surface\",\"colorbar\":{\"outlinewidth\":0,\"ticks\":\"\"},\"colorscale\":[[0.0,\"#0d0887\"],[0.1111111111111111,\"#46039f\"],[0.2222222222222222,\"#7201a8\"],[0.3333333333333333,\"#9c179e\"],[0.4444444444444444,\"#bd3786\"],[0.5555555555555556,\"#d8576b\"],[0.6666666666666666,\"#ed7953\"],[0.7777777777777778,\"#fb9f3a\"],[0.8888888888888888,\"#fdca26\"],[1.0,\"#f0f921\"]]}],\"mesh3d\":[{\"type\":\"mesh3d\",\"colorbar\":{\"outlinewidth\":0,\"ticks\":\"\"}}],\"scatter\":[{\"fillpattern\":{\"fillmode\":\"overlay\",\"size\":10,\"solidity\":0.2},\"type\":\"scatter\"}],\"parcoords\":[{\"type\":\"parcoords\",\"line\":{\"colorbar\":{\"outlinewidth\":0,\"ticks\":\"\"}}}],\"scatterpolargl\":[{\"type\":\"scatterpolargl\",\"marker\":{\"colorbar\":{\"outlinewidth\":0,\"ticks\":\"\"}}}],\"bar\":[{\"error_x\":{\"color\":\"#2a3f5f\"},\"error_y\":{\"color\":\"#2a3f5f\"},\"marker\":{\"line\":{\"color\":\"#E5ECF6\",\"width\":0.5},\"pattern\":{\"fillmode\":\"overlay\",\"size\":10,\"solidity\":0.2}},\"type\":\"bar\"}],\"scattergeo\":[{\"type\":\"scattergeo\",\"marker\":{\"colorbar\":{\"outlinewidth\":0,\"ticks\":\"\"}}}],\"scatterpolar\":[{\"type\":\"scatterpolar\",\"marker\":{\"colorbar\":{\"outlinewidth\":0,\"ticks\":\"\"}}}],\"histogram\":[{\"marker\":{\"pattern\":{\"fillmode\":\"overlay\",\"size\":10,\"solidity\":0.2}},\"type\":\"histogram\"}],\"scattergl\":[{\"type\":\"scattergl\",\"marker\":{\"colorbar\":{\"outlinewidth\":0,\"ticks\":\"\"}}}],\"scatter3d\":[{\"type\":\"scatter3d\",\"line\":{\"colorbar\":{\"outlinewidth\":0,\"ticks\":\"\"}},\"marker\":{\"colorbar\":{\"outlinewidth\":0,\"ticks\":\"\"}}}],\"scattermapbox\":[{\"type\":\"scattermapbox\",\"marker\":{\"colorbar\":{\"outlinewidth\":0,\"ticks\":\"\"}}}],\"scatterternary\":[{\"type\":\"scatterternary\",\"marker\":{\"colorbar\":{\"outlinewidth\":0,\"ticks\":\"\"}}}],\"scattercarpet\":[{\"type\":\"scattercarpet\",\"marker\":{\"colorbar\":{\"outlinewidth\":0,\"ticks\":\"\"}}}],\"carpet\":[{\"aaxis\":{\"endlinecolor\":\"#2a3f5f\",\"gridcolor\":\"white\",\"linecolor\":\"white\",\"minorgridcolor\":\"white\",\"startlinecolor\":\"#2a3f5f\"},\"baxis\":{\"endlinecolor\":\"#2a3f5f\",\"gridcolor\":\"white\",\"linecolor\":\"white\",\"minorgridcolor\":\"white\",\"startlinecolor\":\"#2a3f5f\"},\"type\":\"carpet\"}],\"table\":[{\"cells\":{\"fill\":{\"color\":\"#EBF0F8\"},\"line\":{\"color\":\"white\"}},\"header\":{\"fill\":{\"color\":\"#C8D4E3\"},\"line\":{\"color\":\"white\"}},\"type\":\"table\"}],\"barpolar\":[{\"marker\":{\"line\":{\"color\":\"#E5ECF6\",\"width\":0.5},\"pattern\":{\"fillmode\":\"overlay\",\"size\":10,\"solidity\":0.2}},\"type\":\"barpolar\"}],\"pie\":[{\"automargin\":true,\"type\":\"pie\"}]},\"layout\":{\"autotypenumbers\":\"strict\",\"colorway\":[\"#636efa\",\"#EF553B\",\"#00cc96\",\"#ab63fa\",\"#FFA15A\",\"#19d3f3\",\"#FF6692\",\"#B6E880\",\"#FF97FF\",\"#FECB52\"],\"font\":{\"color\":\"#2a3f5f\"},\"hovermode\":\"closest\",\"hoverlabel\":{\"align\":\"left\"},\"paper_bgcolor\":\"white\",\"plot_bgcolor\":\"#E5ECF6\",\"polar\":{\"bgcolor\":\"#E5ECF6\",\"angularaxis\":{\"gridcolor\":\"white\",\"linecolor\":\"white\",\"ticks\":\"\"},\"radialaxis\":{\"gridcolor\":\"white\",\"linecolor\":\"white\",\"ticks\":\"\"}},\"ternary\":{\"bgcolor\":\"#E5ECF6\",\"aaxis\":{\"gridcolor\":\"white\",\"linecolor\":\"white\",\"ticks\":\"\"},\"baxis\":{\"gridcolor\":\"white\",\"linecolor\":\"white\",\"ticks\":\"\"},\"caxis\":{\"gridcolor\":\"white\",\"linecolor\":\"white\",\"ticks\":\"\"}},\"coloraxis\":{\"colorbar\":{\"outlinewidth\":0,\"ticks\":\"\"}},\"colorscale\":{\"sequential\":[[0.0,\"#0d0887\"],[0.1111111111111111,\"#46039f\"],[0.2222222222222222,\"#7201a8\"],[0.3333333333333333,\"#9c179e\"],[0.4444444444444444,\"#bd3786\"],[0.5555555555555556,\"#d8576b\"],[0.6666666666666666,\"#ed7953\"],[0.7777777777777778,\"#fb9f3a\"],[0.8888888888888888,\"#fdca26\"],[1.0,\"#f0f921\"]],\"sequentialminus\":[[0.0,\"#0d0887\"],[0.1111111111111111,\"#46039f\"],[0.2222222222222222,\"#7201a8\"],[0.3333333333333333,\"#9c179e\"],[0.4444444444444444,\"#bd3786\"],[0.5555555555555556,\"#d8576b\"],[0.6666666666666666,\"#ed7953\"],[0.7777777777777778,\"#fb9f3a\"],[0.8888888888888888,\"#fdca26\"],[1.0,\"#f0f921\"]],\"diverging\":[[0,\"#8e0152\"],[0.1,\"#c51b7d\"],[0.2,\"#de77ae\"],[0.3,\"#f1b6da\"],[0.4,\"#fde0ef\"],[0.5,\"#f7f7f7\"],[0.6,\"#e6f5d0\"],[0.7,\"#b8e186\"],[0.8,\"#7fbc41\"],[0.9,\"#4d9221\"],[1,\"#276419\"]]},\"xaxis\":{\"gridcolor\":\"white\",\"linecolor\":\"white\",\"ticks\":\"\",\"title\":{\"standoff\":15},\"zerolinecolor\":\"white\",\"automargin\":true,\"zerolinewidth\":2},\"yaxis\":{\"gridcolor\":\"white\",\"linecolor\":\"white\",\"ticks\":\"\",\"title\":{\"standoff\":15},\"zerolinecolor\":\"white\",\"automargin\":true,\"zerolinewidth\":2},\"scene\":{\"xaxis\":{\"backgroundcolor\":\"#E5ECF6\",\"gridcolor\":\"white\",\"linecolor\":\"white\",\"showbackground\":true,\"ticks\":\"\",\"zerolinecolor\":\"white\",\"gridwidth\":2},\"yaxis\":{\"backgroundcolor\":\"#E5ECF6\",\"gridcolor\":\"white\",\"linecolor\":\"white\",\"showbackground\":true,\"ticks\":\"\",\"zerolinecolor\":\"white\",\"gridwidth\":2},\"zaxis\":{\"backgroundcolor\":\"#E5ECF6\",\"gridcolor\":\"white\",\"linecolor\":\"white\",\"showbackground\":true,\"ticks\":\"\",\"zerolinecolor\":\"white\",\"gridwidth\":2}},\"shapedefaults\":{\"line\":{\"color\":\"#2a3f5f\"}},\"annotationdefaults\":{\"arrowcolor\":\"#2a3f5f\",\"arrowhead\":0,\"arrowwidth\":1},\"geo\":{\"bgcolor\":\"white\",\"landcolor\":\"#E5ECF6\",\"subunitcolor\":\"white\",\"showland\":true,\"showlakes\":true,\"lakecolor\":\"white\"},\"title\":{\"x\":0.05},\"mapbox\":{\"style\":\"light\"}}},\"xaxis\":{\"anchor\":\"y\",\"domain\":[0.0,0.2888888888888889]},\"yaxis\":{\"anchor\":\"x\",\"domain\":[0.0,1.0],\"title\":{\"text\":\"Accuracy\"}},\"xaxis2\":{\"anchor\":\"y2\",\"domain\":[0.35555555555555557,0.6444444444444445]},\"yaxis2\":{\"anchor\":\"x2\",\"domain\":[0.0,1.0]},\"xaxis3\":{\"anchor\":\"y3\",\"domain\":[0.7111111111111111,1.0]},\"yaxis3\":{\"anchor\":\"x3\",\"domain\":[0.0,1.0]},\"annotations\":[{\"font\":{\"size\":16},\"showarrow\":false,\"text\":\"Logistic Regression\",\"x\":0.14444444444444446,\"xanchor\":\"center\",\"xref\":\"paper\",\"y\":1.0,\"yanchor\":\"bottom\",\"yref\":\"paper\"},{\"font\":{\"size\":16},\"showarrow\":false,\"text\":\"Random Forest\",\"x\":0.5,\"xanchor\":\"center\",\"xref\":\"paper\",\"y\":1.0,\"yanchor\":\"bottom\",\"yref\":\"paper\"},{\"font\":{\"size\":16},\"showarrow\":false,\"text\":\"Neural Network\",\"x\":0.8555555555555556,\"xanchor\":\"center\",\"xref\":\"paper\",\"y\":1.0,\"yanchor\":\"bottom\",\"yref\":\"paper\"}],\"title\":{\"text\":\"Metric Plots for Decision Thresholds from 0.05 to 0.95, at increments of 0.05\",\"x\":0.5}},                        {\"responsive\": true}                    ).then(function(){\n",
              "                            \n",
              "var gd = document.getElementById('13008053-f5ae-4583-8799-4da865ca60ea');\n",
              "var x = new MutationObserver(function (mutations, observer) {{\n",
              "        var display = window.getComputedStyle(gd).display;\n",
              "        if (!display || display === 'none') {{\n",
              "            console.log([gd, 'removed!']);\n",
              "            Plotly.purge(gd);\n",
              "            observer.disconnect();\n",
              "        }}\n",
              "}});\n",
              "\n",
              "// Listen for the removal of the full notebook cells\n",
              "var notebookContainer = gd.closest('#notebook-container');\n",
              "if (notebookContainer) {{\n",
              "    x.observe(notebookContainer, {childList: true});\n",
              "}}\n",
              "\n",
              "// Listen for the clearing of the current output cell\n",
              "var outputEl = gd.closest('.output');\n",
              "if (outputEl) {{\n",
              "    x.observe(outputEl, {childList: true});\n",
              "}}\n",
              "\n",
              "                        })                };                            </script>        </div>\n",
              "</body>\n",
              "</html>"
            ]
          },
          "metadata": {}
        }
      ]
    },
    {
      "cell_type": "code",
      "source": [
        "# Precision-Recall Curve for each model\n",
        "\n",
        "fig = go.Figure()\n",
        "\n",
        "fig.add_shape(\n",
        "    type='line', line=dict(dash='dash'),\n",
        "    x0=0, x1=1, y0=0, y1=1\n",
        ")\n",
        "\n",
        "# Plot P-R Curves\n",
        "for name, model in PredictionModels.items():\n",
        "\n",
        "  if name != 'Neural Network':\n",
        "    y_true = validation_y\n",
        "    y_scores = model.predict_proba(validation_x)[:, 1]\n",
        "\n",
        "    prec, recall, _ = precision_recall_curve(y_true, y_scores)\n",
        "\n",
        "    name = f\"({name})\"\n",
        "    fig.add_trace(go.Scatter(x=recall, y=prec, name=name, mode='lines'))\n",
        "\n",
        "  if name == 'Neural Network':\n",
        "    y_true = validation_y\n",
        "    pred, y_scores = NNmodel.predict(validation_x, return_proba=True)\n",
        "\n",
        "    prec, recall, _ = precision_recall_curve(validation_y, y_scores)\n",
        "\n",
        "    name = f\"({name})\"\n",
        "    fig.add_trace(go.Scatter(x=recall, y=prec, name=name, mode='lines'))\n",
        "\n",
        "fig.update_layout(\n",
        "    title_text = 'Precision-Recall Curves For Selected Models',\n",
        "    title_x = 0.5,\n",
        "    xaxis_title='Recall',\n",
        "    yaxis_title='Precision',\n",
        "    yaxis=dict(scaleanchor=\"x\", scaleratio=1),\n",
        "    xaxis=dict(constrain='domain'),\n",
        "    legend=dict(\n",
        "                                  yanchor=\"top\",\n",
        "                                  y=0.99,\n",
        "                                  xanchor=\"left\",\n",
        "                                  x=0.5\n",
        "                              ),\n",
        "    width=1000, height=750\n",
        ")\n",
        "fig.show()\n"
      ],
      "metadata": {
        "id": "bQY36rDl7U9g"
      },
      "id": "bQY36rDl7U9g",
      "execution_count": null,
      "outputs": []
    }
  ],
  "metadata": {
    "kernelspec": {
      "display_name": "Python 3 (ipykernel)",
      "language": "python",
      "name": "python3"
    },
    "language_info": {
      "codemirror_mode": {
        "name": "ipython",
        "version": 3
      },
      "file_extension": ".py",
      "mimetype": "text/x-python",
      "name": "python",
      "nbconvert_exporter": "python",
      "pygments_lexer": "ipython3",
      "version": "3.8.18"
    },
    "colab": {
      "provenance": []
    }
  },
  "nbformat": 4,
  "nbformat_minor": 5
}